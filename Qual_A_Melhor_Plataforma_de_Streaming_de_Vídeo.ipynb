{
  "nbformat": 4,
  "nbformat_minor": 0,
  "metadata": {
    "colab": {
      "name": "Qual A Melhor Plataforma de Streaming de Vídeo ",
      "provenance": [],
      "collapsed_sections": [],
      "authorship_tag": "ABX9TyPQotMuFKEzGCcGL/ByMuTj",
      "include_colab_link": true
    },
    "kernelspec": {
      "name": "python3",
      "display_name": "Python 3"
    }
  },
  "cells": [
    {
      "cell_type": "markdown",
      "metadata": {
        "id": "view-in-github",
        "colab_type": "text"
      },
      "source": [
        "<a href=\"https://colab.research.google.com/github/diegovalensuela/datascience/blob/master/Qual_A_Melhor_Plataforma_de_Streaming_de_V%C3%ADdeo.ipynb\" target=\"_parent\"><img src=\"https://colab.research.google.com/assets/colab-badge.svg\" alt=\"Open In Colab\"/></a>"
      ]
    },
    {
      "cell_type": "code",
      "metadata": {
        "id": "-VTlj9W9pZsa"
      },
      "source": [
        "# importanto as bibliotecas\n",
        "import pandas as pd\n",
        "import numpy as np"
      ],
      "execution_count": 54,
      "outputs": []
    },
    {
      "cell_type": "code",
      "metadata": {
        "id": "gP5Ro6vZpiO-"
      },
      "source": [
        "series = pd.read_csv('https://raw.githubusercontent.com/diegovalensuela/datascience/master/Datasets/Series%20de%20TV/tv_shows.csv')\n",
        "# https://www.kaggle.com/ruchi798/tv-shows-on-netflix-prime-video-hulu-and-disney"
      ],
      "execution_count": 55,
      "outputs": []
    },
    {
      "cell_type": "code",
      "metadata": {
        "id": "2PzS9ojzp-iu",
        "outputId": "38097f5b-ebd8-4a21-8f3d-0a03ab095931",
        "colab": {
          "base_uri": "https://localhost:8080/",
          "height": 272
        }
      },
      "source": [
        "print('# Dimensões do DataFrame:')\n",
        "print('Linhas = {}'.format(series.shape[0]))\n",
        "print('Colunas = {}\\n'.format(series.shape[1]))\n",
        "series.head()"
      ],
      "execution_count": 59,
      "outputs": [
        {
          "output_type": "stream",
          "text": [
            "# Dimensões do DataFrame:\n",
            "Linhas = 5611\n",
            "Colunas = 11\n",
            "\n"
          ],
          "name": "stdout"
        },
        {
          "output_type": "execute_result",
          "data": {
            "text/html": [
              "<div>\n",
              "<style scoped>\n",
              "    .dataframe tbody tr th:only-of-type {\n",
              "        vertical-align: middle;\n",
              "    }\n",
              "\n",
              "    .dataframe tbody tr th {\n",
              "        vertical-align: top;\n",
              "    }\n",
              "\n",
              "    .dataframe thead th {\n",
              "        text-align: right;\n",
              "    }\n",
              "</style>\n",
              "<table border=\"1\" class=\"dataframe\">\n",
              "  <thead>\n",
              "    <tr style=\"text-align: right;\">\n",
              "      <th></th>\n",
              "      <th>Unnamed: 0</th>\n",
              "      <th>Title</th>\n",
              "      <th>Year</th>\n",
              "      <th>Age</th>\n",
              "      <th>IMDb</th>\n",
              "      <th>Rotten Tomatoes</th>\n",
              "      <th>Netflix</th>\n",
              "      <th>Hulu</th>\n",
              "      <th>Prime Video</th>\n",
              "      <th>Disney+</th>\n",
              "      <th>type</th>\n",
              "    </tr>\n",
              "  </thead>\n",
              "  <tbody>\n",
              "    <tr>\n",
              "      <th>0</th>\n",
              "      <td>0</td>\n",
              "      <td>Breaking Bad</td>\n",
              "      <td>2008</td>\n",
              "      <td>18+</td>\n",
              "      <td>9.5</td>\n",
              "      <td>96%</td>\n",
              "      <td>1</td>\n",
              "      <td>0</td>\n",
              "      <td>0</td>\n",
              "      <td>0</td>\n",
              "      <td>1</td>\n",
              "    </tr>\n",
              "    <tr>\n",
              "      <th>1</th>\n",
              "      <td>1</td>\n",
              "      <td>Stranger Things</td>\n",
              "      <td>2016</td>\n",
              "      <td>16+</td>\n",
              "      <td>8.8</td>\n",
              "      <td>93%</td>\n",
              "      <td>1</td>\n",
              "      <td>0</td>\n",
              "      <td>0</td>\n",
              "      <td>0</td>\n",
              "      <td>1</td>\n",
              "    </tr>\n",
              "    <tr>\n",
              "      <th>2</th>\n",
              "      <td>2</td>\n",
              "      <td>Money Heist</td>\n",
              "      <td>2017</td>\n",
              "      <td>18+</td>\n",
              "      <td>8.4</td>\n",
              "      <td>91%</td>\n",
              "      <td>1</td>\n",
              "      <td>0</td>\n",
              "      <td>0</td>\n",
              "      <td>0</td>\n",
              "      <td>1</td>\n",
              "    </tr>\n",
              "    <tr>\n",
              "      <th>3</th>\n",
              "      <td>3</td>\n",
              "      <td>Sherlock</td>\n",
              "      <td>2010</td>\n",
              "      <td>16+</td>\n",
              "      <td>9.1</td>\n",
              "      <td>78%</td>\n",
              "      <td>1</td>\n",
              "      <td>0</td>\n",
              "      <td>0</td>\n",
              "      <td>0</td>\n",
              "      <td>1</td>\n",
              "    </tr>\n",
              "    <tr>\n",
              "      <th>4</th>\n",
              "      <td>4</td>\n",
              "      <td>Better Call Saul</td>\n",
              "      <td>2015</td>\n",
              "      <td>18+</td>\n",
              "      <td>8.7</td>\n",
              "      <td>97%</td>\n",
              "      <td>1</td>\n",
              "      <td>0</td>\n",
              "      <td>0</td>\n",
              "      <td>0</td>\n",
              "      <td>1</td>\n",
              "    </tr>\n",
              "  </tbody>\n",
              "</table>\n",
              "</div>"
            ],
            "text/plain": [
              "   Unnamed: 0             Title  Year  Age  ...  Hulu Prime Video  Disney+  type\n",
              "0           0      Breaking Bad  2008  18+  ...     0           0        0     1\n",
              "1           1   Stranger Things  2016  16+  ...     0           0        0     1\n",
              "2           2       Money Heist  2017  18+  ...     0           0        0     1\n",
              "3           3          Sherlock  2010  16+  ...     0           0        0     1\n",
              "4           4  Better Call Saul  2015  18+  ...     0           0        0     1\n",
              "\n",
              "[5 rows x 11 columns]"
            ]
          },
          "metadata": {
            "tags": []
          },
          "execution_count": 59
        }
      ]
    },
    {
      "cell_type": "code",
      "metadata": {
        "id": "4V5AVYNfDBUn"
      },
      "source": [
        "# removendo o caracter de porcertagem da coluna Rotten Tomatoes\n",
        "series['Rotten Tomatoes'] = series['Rotten Tomatoes'].apply(lambda x: str(x).replace('%',''))"
      ],
      "execution_count": 35,
      "outputs": []
    },
    {
      "cell_type": "code",
      "metadata": {
        "id": "8Bx7f-mxm5s_",
        "outputId": "5211e6aa-80d9-4f49-f688-ce726071a773",
        "colab": {
          "base_uri": "https://localhost:8080/",
          "height": 221
        }
      },
      "source": [
        "# verificar o tipo de dado de cada coluna\n",
        "series.dtypes"
      ],
      "execution_count": 36,
      "outputs": [
        {
          "output_type": "execute_result",
          "data": {
            "text/plain": [
              "Unnamed: 0           int64\n",
              "Title               object\n",
              "Year                 int64\n",
              "Age                 object\n",
              "IMDb               float64\n",
              "Rotten Tomatoes     object\n",
              "Netflix              int64\n",
              "Hulu                 int64\n",
              "Prime Video          int64\n",
              "Disney+              int64\n",
              "type                 int64\n",
              "dtype: object"
            ]
          },
          "metadata": {
            "tags": []
          },
          "execution_count": 36
        }
      ]
    },
    {
      "cell_type": "code",
      "metadata": {
        "id": "rvYb4h-5LdPi"
      },
      "source": [
        "# alterando o tipo de dado da coluna Rotten Tomatoes para float64\n",
        "series['Rotten Tomatoes'] = series['Rotten Tomatoes'].astype('float64')\n",
        "\n",
        "# deixando a coluna Rotten Tomatoes no mesmo padrão de notas do IMDb, ou seja, de 0 a 10\n",
        "series['Rotten Tomatoes'] = series['Rotten Tomatoes'].apply(lambda x: x/10)"
      ],
      "execution_count": 37,
      "outputs": []
    },
    {
      "cell_type": "code",
      "metadata": {
        "id": "z2-5fx5X_dZB",
        "outputId": "d1feee47-962f-4179-812b-e220a37ec968",
        "colab": {
          "base_uri": "https://localhost:8080/",
          "height": 173
        }
      },
      "source": [
        "# verificar uma série de cada plataforma\n",
        "series.loc[[1583,1946,3572,5523]]"
      ],
      "execution_count": 38,
      "outputs": [
        {
          "output_type": "execute_result",
          "data": {
            "text/html": [
              "<div>\n",
              "<style scoped>\n",
              "    .dataframe tbody tr th:only-of-type {\n",
              "        vertical-align: middle;\n",
              "    }\n",
              "\n",
              "    .dataframe tbody tr th {\n",
              "        vertical-align: top;\n",
              "    }\n",
              "\n",
              "    .dataframe thead th {\n",
              "        text-align: right;\n",
              "    }\n",
              "</style>\n",
              "<table border=\"1\" class=\"dataframe\">\n",
              "  <thead>\n",
              "    <tr style=\"text-align: right;\">\n",
              "      <th></th>\n",
              "      <th>Unnamed: 0</th>\n",
              "      <th>Title</th>\n",
              "      <th>Year</th>\n",
              "      <th>Age</th>\n",
              "      <th>IMDb</th>\n",
              "      <th>Rotten Tomatoes</th>\n",
              "      <th>Netflix</th>\n",
              "      <th>Hulu</th>\n",
              "      <th>Prime Video</th>\n",
              "      <th>Disney+</th>\n",
              "      <th>type</th>\n",
              "    </tr>\n",
              "  </thead>\n",
              "  <tbody>\n",
              "    <tr>\n",
              "      <th>1583</th>\n",
              "      <td>1583</td>\n",
              "      <td>Daughters of Destiny</td>\n",
              "      <td>2017</td>\n",
              "      <td>NaN</td>\n",
              "      <td>NaN</td>\n",
              "      <td>NaN</td>\n",
              "      <td>1</td>\n",
              "      <td>0</td>\n",
              "      <td>0</td>\n",
              "      <td>0</td>\n",
              "      <td>1</td>\n",
              "    </tr>\n",
              "    <tr>\n",
              "      <th>1946</th>\n",
              "      <td>1946</td>\n",
              "      <td>The Handmaid's Tale</td>\n",
              "      <td>2017</td>\n",
              "      <td>18+</td>\n",
              "      <td>8.5</td>\n",
              "      <td>8.8</td>\n",
              "      <td>0</td>\n",
              "      <td>1</td>\n",
              "      <td>0</td>\n",
              "      <td>0</td>\n",
              "      <td>1</td>\n",
              "    </tr>\n",
              "    <tr>\n",
              "      <th>3572</th>\n",
              "      <td>3572</td>\n",
              "      <td>The Boys</td>\n",
              "      <td>2019</td>\n",
              "      <td>18+</td>\n",
              "      <td>8.7</td>\n",
              "      <td>8.4</td>\n",
              "      <td>0</td>\n",
              "      <td>0</td>\n",
              "      <td>1</td>\n",
              "      <td>0</td>\n",
              "      <td>1</td>\n",
              "    </tr>\n",
              "    <tr>\n",
              "      <th>5523</th>\n",
              "      <td>5523</td>\n",
              "      <td>Amphibia</td>\n",
              "      <td>2019</td>\n",
              "      <td>7+</td>\n",
              "      <td>7.9</td>\n",
              "      <td>NaN</td>\n",
              "      <td>0</td>\n",
              "      <td>0</td>\n",
              "      <td>0</td>\n",
              "      <td>1</td>\n",
              "      <td>1</td>\n",
              "    </tr>\n",
              "  </tbody>\n",
              "</table>\n",
              "</div>"
            ],
            "text/plain": [
              "      Unnamed: 0                 Title  Year  ... Prime Video  Disney+  type\n",
              "1583        1583  Daughters of Destiny  2017  ...           0        0     1\n",
              "1946        1946   The Handmaid's Tale  2017  ...           0        0     1\n",
              "3572        3572              The Boys  2019  ...           1        0     1\n",
              "5523        5523              Amphibia  2019  ...           0        1     1\n",
              "\n",
              "[4 rows x 11 columns]"
            ]
          },
          "metadata": {
            "tags": []
          },
          "execution_count": 38
        }
      ]
    },
    {
      "cell_type": "markdown",
      "metadata": {
        "id": "92qQ6a4EDEFH"
      },
      "source": [
        "Podemos verificar que o dataset possui valores NaN, isso mostra que há dados faltantes e precisam ser tratados para não prejudicar a análise. Vamos verificar a quantidade de dados faltantes para cada coluna do dataset."
      ]
    },
    {
      "cell_type": "code",
      "metadata": {
        "id": "fymQlOXlD9yH",
        "outputId": "14fa3f0b-3c99-4c9a-da6e-0d64fcb590e0",
        "colab": {
          "base_uri": "https://localhost:8080/",
          "height": 221
        }
      },
      "source": [
        "# analisando a porcentagem de valores faltantes para cada coluna\n",
        "series.isnull().sum() / len(series['Title']) *100"
      ],
      "execution_count": 39,
      "outputs": [
        {
          "output_type": "execute_result",
          "data": {
            "text/plain": [
              "Unnamed: 0          0.000000\n",
              "Title               0.000000\n",
              "Year                0.000000\n",
              "Age                43.592942\n",
              "IMDb               20.691499\n",
              "Rotten Tomatoes    81.981821\n",
              "Netflix             0.000000\n",
              "Hulu                0.000000\n",
              "Prime Video         0.000000\n",
              "Disney+             0.000000\n",
              "type                0.000000\n",
              "dtype: float64"
            ]
          },
          "metadata": {
            "tags": []
          },
          "execution_count": 39
        }
      ]
    },
    {
      "cell_type": "markdown",
      "metadata": {
        "id": "wIgZ9Hcdtgt4"
      },
      "source": [
        "A coluna com avaliações do Rotten Tomatoes está com quase 82% das séries sem avaliações. É uma boa parte das series e não podemos apenas excluir essas linhas.\n",
        "\n",
        "Para tratar esses dados ausentes, tanto do Rotten Tomatoes quanto do IMDb, iremos preencher os campos faltantes de acordo com as notas por plataforma. Ou seja, pegar a mediana das avaliações de cada plataforma, fazer a media e substituir os valores NaN por essa media que será calculada.\n"
      ]
    },
    {
      "cell_type": "code",
      "metadata": {
        "id": "WT-K-OgLLMLb"
      },
      "source": [
        "# seperar as avaliações do Rotten Tomatoes por plataforma\n",
        "netflix_notas = series.loc[(series['Netflix']==1)]\n",
        "hulu_notas = series.loc[(series['Hulu']==1) & (series['Netflix']==0)]\n",
        "prime_notas = series.loc[(series['Prime Video']==1) & (series['Netflix']==0) & (series['Hulu']==0)]\n",
        "disney_notas = series.loc[(series['Disney+']==1) & (series['Netflix']==0) & (series['Hulu']==0) & (series['Prime Video']==0)]"
      ],
      "execution_count": 40,
      "outputs": []
    },
    {
      "cell_type": "code",
      "metadata": {
        "id": "pYvoXv9njhPY",
        "outputId": "6fedcfcc-f5c4-4ca7-b6ed-c1916e161477",
        "colab": {
          "base_uri": "https://localhost:8080/",
          "height": 51
        }
      },
      "source": [
        "print('Tamanho do dataset somente com análises das séries da netlix: ', netflix_notas.shape)\n",
        "print('Quantidade de séries da Netflix sem avaliações do Rotten Tomatoes: ', netflix_notas['Rotten Tomatoes'].isnull().sum())"
      ],
      "execution_count": 41,
      "outputs": [
        {
          "output_type": "stream",
          "text": [
            "Tamanho do dataset somente com análises das séries da netlix:  (1931, 11)\n",
            "Quantidade de séries da Netflix sem avaliações do Rotten Tomatoes:  1477\n"
          ],
          "name": "stdout"
        }
      ]
    },
    {
      "cell_type": "code",
      "metadata": {
        "id": "z-074nWBkfAH"
      },
      "source": [
        "# pegar a mediana de cada plataforma na coluna Rotten Tomatoes\n",
        "netflix_mediana = netflix_notas['Rotten Tomatoes'].median()\n",
        "hulu_mediana = hulu_notas['Rotten Tomatoes'].median()\n",
        "prime_mediana = prime_notas['Rotten Tomatoes'].median()\n",
        "disney_mediana = disney_notas['Rotten Tomatoes'].median()"
      ],
      "execution_count": 42,
      "outputs": []
    },
    {
      "cell_type": "code",
      "metadata": {
        "id": "9UEKi-C14nsb",
        "outputId": "3a9ab471-fc62-424c-a0bd-fc81d299f35b",
        "colab": {
          "base_uri": "https://localhost:8080/",
          "height": 34
        }
      },
      "source": [
        "# fazer a media geral das avaliações do Rotten Tomatoes de todas as plataformas\n",
        "media_rotten = round(np.mean([netflix_mediana, hulu_mediana, prime_mediana, disney_mediana]), 1)\n",
        "print('Média geral a ser preenchida nos campos nulos = {}'.format(media_rotten))"
      ],
      "execution_count": 43,
      "outputs": [
        {
          "output_type": "stream",
          "text": [
            "Média geral a ser preenchida nos campos nulos = 8.3\n"
          ],
          "name": "stdout"
        }
      ]
    },
    {
      "cell_type": "code",
      "metadata": {
        "id": "1uGzkkno6O3k"
      },
      "source": [
        "# seperar as avaliações do IMDb por plataforma\n",
        "netflix_imdb = series.loc[(series['Netflix']==1)]\n",
        "hulu_imdb = series.loc[(series['Hulu']==1) & (series['Netflix']==0)]\n",
        "prime_imdb = series.loc[(series['Prime Video']==1) & (series['Netflix']==0) & (series['Hulu']==0)]\n",
        "disney_imdb = series.loc[(series['Disney+']==1) & (series['Netflix']==0) & (series['Hulu']==0) & (series['Prime Video']==0)]"
      ],
      "execution_count": 44,
      "outputs": []
    },
    {
      "cell_type": "code",
      "metadata": {
        "id": "p7v-O1b46eO6",
        "outputId": "fe552abd-5ae7-44ba-985e-8accf25777b5",
        "colab": {
          "base_uri": "https://localhost:8080/",
          "height": 51
        }
      },
      "source": [
        "print('Tamanho do dataset somente com análises das séries do Prime Video: ', prime_imdb.shape)\n",
        "print('Quantidade de séries do Prime Video sem avaliações do IMDb: ', prime_imdb['IMDb'].isnull().sum())"
      ],
      "execution_count": 45,
      "outputs": [
        {
          "output_type": "stream",
          "text": [
            "Tamanho do dataset somente com análises das séries do Prime Video:  (1889, 11)\n",
            "Quantidade de séries do Prime Video sem avaliações do IMDb:  795\n"
          ],
          "name": "stdout"
        }
      ]
    },
    {
      "cell_type": "code",
      "metadata": {
        "id": "Agiei1yR2osD"
      },
      "source": [
        "# pegar a mediana de cada plataforma na coluna IMDb\n",
        "netflix_mediana_imdb = netflix_imdb['IMDb'].median()\n",
        "hulu_mediana_imdb = hulu_imdb['IMDb'].median()\n",
        "prime_mediana_imdb = prime_imdb['IMDb'].median()\n",
        "disney_mediana_imdb = disney_imdb['IMDb'].median()"
      ],
      "execution_count": 46,
      "outputs": []
    },
    {
      "cell_type": "code",
      "metadata": {
        "id": "17vaJPi45gaT",
        "outputId": "c044783e-e5c7-495d-d333-72d3855abc72",
        "colab": {
          "base_uri": "https://localhost:8080/",
          "height": 34
        }
      },
      "source": [
        "# fazer a media geral das avaliações do Rotten Tomatoes de todas as plataformas\n",
        "media_imdb = round(np.mean([netflix_mediana_imdb, hulu_mediana_imdb, prime_mediana_imdb, disney_mediana_imdb]), 1)\n",
        "print('Média geral a ser preenchida nos campos nulos da coluna IMDb = {}'.format(media_imdb))"
      ],
      "execution_count": 47,
      "outputs": [
        {
          "output_type": "stream",
          "text": [
            "Média geral a ser preenchida nos campos nulos da coluna IMDb = 7.2\n"
          ],
          "name": "stdout"
        }
      ]
    },
    {
      "cell_type": "markdown",
      "metadata": {
        "id": "S7Lb_Iv06psM"
      },
      "source": [
        "Sabendo agora os valores que serão preenchidos onde não há avaliações, vamos fazer a substituição no nosso dataset para partir para a finalização da análise."
      ]
    },
    {
      "cell_type": "code",
      "metadata": {
        "id": "6CpBeYF468PQ"
      },
      "source": [
        "# substituindo os valores nulos pelas medias calculadas\n",
        "series['Rotten Tomatoes'] = series['Rotten Tomatoes'].fillna(media_rotten)\n",
        "series['IMDb'] = series['IMDb'].fillna(media_imdb)"
      ],
      "execution_count": 48,
      "outputs": []
    },
    {
      "cell_type": "code",
      "metadata": {
        "id": "fvt3wU7E7iwD",
        "outputId": "66066ec9-741e-40c6-a2cf-b69b9130525d",
        "colab": {
          "base_uri": "https://localhost:8080/",
          "height": 173
        }
      },
      "source": [
        "# verificar novamente uma série de cada plataforma\n",
        "series.loc[[1583,1946,3572,5523]]"
      ],
      "execution_count": 49,
      "outputs": [
        {
          "output_type": "execute_result",
          "data": {
            "text/html": [
              "<div>\n",
              "<style scoped>\n",
              "    .dataframe tbody tr th:only-of-type {\n",
              "        vertical-align: middle;\n",
              "    }\n",
              "\n",
              "    .dataframe tbody tr th {\n",
              "        vertical-align: top;\n",
              "    }\n",
              "\n",
              "    .dataframe thead th {\n",
              "        text-align: right;\n",
              "    }\n",
              "</style>\n",
              "<table border=\"1\" class=\"dataframe\">\n",
              "  <thead>\n",
              "    <tr style=\"text-align: right;\">\n",
              "      <th></th>\n",
              "      <th>Unnamed: 0</th>\n",
              "      <th>Title</th>\n",
              "      <th>Year</th>\n",
              "      <th>Age</th>\n",
              "      <th>IMDb</th>\n",
              "      <th>Rotten Tomatoes</th>\n",
              "      <th>Netflix</th>\n",
              "      <th>Hulu</th>\n",
              "      <th>Prime Video</th>\n",
              "      <th>Disney+</th>\n",
              "      <th>type</th>\n",
              "    </tr>\n",
              "  </thead>\n",
              "  <tbody>\n",
              "    <tr>\n",
              "      <th>1583</th>\n",
              "      <td>1583</td>\n",
              "      <td>Daughters of Destiny</td>\n",
              "      <td>2017</td>\n",
              "      <td>NaN</td>\n",
              "      <td>7.2</td>\n",
              "      <td>8.3</td>\n",
              "      <td>1</td>\n",
              "      <td>0</td>\n",
              "      <td>0</td>\n",
              "      <td>0</td>\n",
              "      <td>1</td>\n",
              "    </tr>\n",
              "    <tr>\n",
              "      <th>1946</th>\n",
              "      <td>1946</td>\n",
              "      <td>The Handmaid's Tale</td>\n",
              "      <td>2017</td>\n",
              "      <td>18+</td>\n",
              "      <td>8.5</td>\n",
              "      <td>8.8</td>\n",
              "      <td>0</td>\n",
              "      <td>1</td>\n",
              "      <td>0</td>\n",
              "      <td>0</td>\n",
              "      <td>1</td>\n",
              "    </tr>\n",
              "    <tr>\n",
              "      <th>3572</th>\n",
              "      <td>3572</td>\n",
              "      <td>The Boys</td>\n",
              "      <td>2019</td>\n",
              "      <td>18+</td>\n",
              "      <td>8.7</td>\n",
              "      <td>8.4</td>\n",
              "      <td>0</td>\n",
              "      <td>0</td>\n",
              "      <td>1</td>\n",
              "      <td>0</td>\n",
              "      <td>1</td>\n",
              "    </tr>\n",
              "    <tr>\n",
              "      <th>5523</th>\n",
              "      <td>5523</td>\n",
              "      <td>Amphibia</td>\n",
              "      <td>2019</td>\n",
              "      <td>7+</td>\n",
              "      <td>7.9</td>\n",
              "      <td>8.3</td>\n",
              "      <td>0</td>\n",
              "      <td>0</td>\n",
              "      <td>0</td>\n",
              "      <td>1</td>\n",
              "      <td>1</td>\n",
              "    </tr>\n",
              "  </tbody>\n",
              "</table>\n",
              "</div>"
            ],
            "text/plain": [
              "      Unnamed: 0                 Title  Year  ... Prime Video  Disney+  type\n",
              "1583        1583  Daughters of Destiny  2017  ...           0        0     1\n",
              "1946        1946   The Handmaid's Tale  2017  ...           0        0     1\n",
              "3572        3572              The Boys  2019  ...           1        0     1\n",
              "5523        5523              Amphibia  2019  ...           0        1     1\n",
              "\n",
              "[4 rows x 11 columns]"
            ]
          },
          "metadata": {
            "tags": []
          },
          "execution_count": 49
        }
      ]
    },
    {
      "cell_type": "code",
      "metadata": {
        "id": "Pq8Mk-BB7muH",
        "outputId": "6623bace-1a4e-4f59-a810-35f2e86873c2",
        "colab": {
          "base_uri": "https://localhost:8080/",
          "height": 221
        }
      },
      "source": [
        "# analisando a porcentagem de valores faltantes para cada coluna\n",
        "series.isnull().sum() / len(series['Title']) *100"
      ],
      "execution_count": 50,
      "outputs": [
        {
          "output_type": "execute_result",
          "data": {
            "text/plain": [
              "Unnamed: 0          0.000000\n",
              "Title               0.000000\n",
              "Year                0.000000\n",
              "Age                43.592942\n",
              "IMDb                0.000000\n",
              "Rotten Tomatoes     0.000000\n",
              "Netflix             0.000000\n",
              "Hulu                0.000000\n",
              "Prime Video         0.000000\n",
              "Disney+             0.000000\n",
              "type                0.000000\n",
              "dtype: float64"
            ]
          },
          "metadata": {
            "tags": []
          },
          "execution_count": 50
        }
      ]
    },
    {
      "cell_type": "code",
      "metadata": {
        "id": "0QJeIq2jryB4",
        "outputId": "15313f1f-fb8d-40c6-9b85-ed3330791526",
        "colab": {
          "base_uri": "https://localhost:8080/",
          "height": 328
        }
      },
      "source": [
        " # descrição estatistica geral sobre o dataset\n",
        "series.describe().transpose()"
      ],
      "execution_count": 51,
      "outputs": [
        {
          "output_type": "execute_result",
          "data": {
            "text/html": [
              "<div>\n",
              "<style scoped>\n",
              "    .dataframe tbody tr th:only-of-type {\n",
              "        vertical-align: middle;\n",
              "    }\n",
              "\n",
              "    .dataframe tbody tr th {\n",
              "        vertical-align: top;\n",
              "    }\n",
              "\n",
              "    .dataframe thead th {\n",
              "        text-align: right;\n",
              "    }\n",
              "</style>\n",
              "<table border=\"1\" class=\"dataframe\">\n",
              "  <thead>\n",
              "    <tr style=\"text-align: right;\">\n",
              "      <th></th>\n",
              "      <th>count</th>\n",
              "      <th>mean</th>\n",
              "      <th>std</th>\n",
              "      <th>min</th>\n",
              "      <th>25%</th>\n",
              "      <th>50%</th>\n",
              "      <th>75%</th>\n",
              "      <th>max</th>\n",
              "    </tr>\n",
              "  </thead>\n",
              "  <tbody>\n",
              "    <tr>\n",
              "      <th>Unnamed: 0</th>\n",
              "      <td>5611.0</td>\n",
              "      <td>2805.000000</td>\n",
              "      <td>1619.900511</td>\n",
              "      <td>0.0</td>\n",
              "      <td>1402.5</td>\n",
              "      <td>2805.0</td>\n",
              "      <td>4207.5</td>\n",
              "      <td>5610.0</td>\n",
              "    </tr>\n",
              "    <tr>\n",
              "      <th>Year</th>\n",
              "      <td>5611.0</td>\n",
              "      <td>2011.021030</td>\n",
              "      <td>11.005116</td>\n",
              "      <td>1901.0</td>\n",
              "      <td>2010.0</td>\n",
              "      <td>2015.0</td>\n",
              "      <td>2017.0</td>\n",
              "      <td>2020.0</td>\n",
              "    </tr>\n",
              "    <tr>\n",
              "      <th>IMDb</th>\n",
              "      <td>5611.0</td>\n",
              "      <td>7.131207</td>\n",
              "      <td>1.008748</td>\n",
              "      <td>1.0</td>\n",
              "      <td>6.8</td>\n",
              "      <td>7.2</td>\n",
              "      <td>7.7</td>\n",
              "      <td>9.6</td>\n",
              "    </tr>\n",
              "    <tr>\n",
              "      <th>Rotten Tomatoes</th>\n",
              "      <td>5611.0</td>\n",
              "      <td>8.200980</td>\n",
              "      <td>0.898329</td>\n",
              "      <td>0.6</td>\n",
              "      <td>8.3</td>\n",
              "      <td>8.3</td>\n",
              "      <td>8.3</td>\n",
              "      <td>10.0</td>\n",
              "    </tr>\n",
              "    <tr>\n",
              "      <th>Netflix</th>\n",
              "      <td>5611.0</td>\n",
              "      <td>0.344145</td>\n",
              "      <td>0.475131</td>\n",
              "      <td>0.0</td>\n",
              "      <td>0.0</td>\n",
              "      <td>0.0</td>\n",
              "      <td>1.0</td>\n",
              "      <td>1.0</td>\n",
              "    </tr>\n",
              "    <tr>\n",
              "      <th>Hulu</th>\n",
              "      <td>5611.0</td>\n",
              "      <td>0.312600</td>\n",
              "      <td>0.463594</td>\n",
              "      <td>0.0</td>\n",
              "      <td>0.0</td>\n",
              "      <td>0.0</td>\n",
              "      <td>1.0</td>\n",
              "      <td>1.0</td>\n",
              "    </tr>\n",
              "    <tr>\n",
              "      <th>Prime Video</th>\n",
              "      <td>5611.0</td>\n",
              "      <td>0.382107</td>\n",
              "      <td>0.485946</td>\n",
              "      <td>0.0</td>\n",
              "      <td>0.0</td>\n",
              "      <td>0.0</td>\n",
              "      <td>1.0</td>\n",
              "      <td>1.0</td>\n",
              "    </tr>\n",
              "    <tr>\n",
              "      <th>Disney+</th>\n",
              "      <td>5611.0</td>\n",
              "      <td>0.032080</td>\n",
              "      <td>0.176228</td>\n",
              "      <td>0.0</td>\n",
              "      <td>0.0</td>\n",
              "      <td>0.0</td>\n",
              "      <td>0.0</td>\n",
              "      <td>1.0</td>\n",
              "    </tr>\n",
              "    <tr>\n",
              "      <th>type</th>\n",
              "      <td>5611.0</td>\n",
              "      <td>1.000000</td>\n",
              "      <td>0.000000</td>\n",
              "      <td>1.0</td>\n",
              "      <td>1.0</td>\n",
              "      <td>1.0</td>\n",
              "      <td>1.0</td>\n",
              "      <td>1.0</td>\n",
              "    </tr>\n",
              "  </tbody>\n",
              "</table>\n",
              "</div>"
            ],
            "text/plain": [
              "                  count         mean          std  ...     50%     75%     max\n",
              "Unnamed: 0       5611.0  2805.000000  1619.900511  ...  2805.0  4207.5  5610.0\n",
              "Year             5611.0  2011.021030    11.005116  ...  2015.0  2017.0  2020.0\n",
              "IMDb             5611.0     7.131207     1.008748  ...     7.2     7.7     9.6\n",
              "Rotten Tomatoes  5611.0     8.200980     0.898329  ...     8.3     8.3    10.0\n",
              "Netflix          5611.0     0.344145     0.475131  ...     0.0     1.0     1.0\n",
              "Hulu             5611.0     0.312600     0.463594  ...     0.0     1.0     1.0\n",
              "Prime Video      5611.0     0.382107     0.485946  ...     0.0     1.0     1.0\n",
              "Disney+          5611.0     0.032080     0.176228  ...     0.0     0.0     1.0\n",
              "type             5611.0     1.000000     0.000000  ...     1.0     1.0     1.0\n",
              "\n",
              "[9 rows x 8 columns]"
            ]
          },
          "metadata": {
            "tags": []
          },
          "execution_count": 51
        }
      ]
    },
    {
      "cell_type": "markdown",
      "metadata": {
        "id": "Bn6eOGql8lVx"
      },
      "source": [
        "Com essa descrição estatistica geral do dataset, podemos observar que a coluna *type* é formada completamente por um unico valor, já que o std(standard deviation) Desvio Padrão é igual e zero. Agora que já tratamos as colunas fundamentais, vamos remover as que não são necessárias."
      ]
    },
    {
      "cell_type": "code",
      "metadata": {
        "id": "WKH4lEFV6sz6"
      },
      "source": [
        "# remover variaveis sem importancia para esta analise\n",
        "series.drop('Unnamed: 0', inplace=True, axis=1)\n",
        "series.drop('Year', inplace=True, axis=1)\n",
        "series.drop('type', inplace=True, axis=1)\n",
        "series.drop('Age', inplace=True, axis=1)"
      ],
      "execution_count": 52,
      "outputs": []
    },
    {
      "cell_type": "code",
      "metadata": {
        "id": "Wx2KQi529VdT",
        "outputId": "6bf60b93-f98c-4b88-f10e-efba0846d9af",
        "colab": {
          "base_uri": "https://localhost:8080/",
          "height": 204
        }
      },
      "source": [
        "series.head()"
      ],
      "execution_count": 53,
      "outputs": [
        {
          "output_type": "execute_result",
          "data": {
            "text/html": [
              "<div>\n",
              "<style scoped>\n",
              "    .dataframe tbody tr th:only-of-type {\n",
              "        vertical-align: middle;\n",
              "    }\n",
              "\n",
              "    .dataframe tbody tr th {\n",
              "        vertical-align: top;\n",
              "    }\n",
              "\n",
              "    .dataframe thead th {\n",
              "        text-align: right;\n",
              "    }\n",
              "</style>\n",
              "<table border=\"1\" class=\"dataframe\">\n",
              "  <thead>\n",
              "    <tr style=\"text-align: right;\">\n",
              "      <th></th>\n",
              "      <th>Title</th>\n",
              "      <th>IMDb</th>\n",
              "      <th>Rotten Tomatoes</th>\n",
              "      <th>Netflix</th>\n",
              "      <th>Hulu</th>\n",
              "      <th>Prime Video</th>\n",
              "      <th>Disney+</th>\n",
              "    </tr>\n",
              "  </thead>\n",
              "  <tbody>\n",
              "    <tr>\n",
              "      <th>0</th>\n",
              "      <td>Breaking Bad</td>\n",
              "      <td>9.5</td>\n",
              "      <td>9.6</td>\n",
              "      <td>1</td>\n",
              "      <td>0</td>\n",
              "      <td>0</td>\n",
              "      <td>0</td>\n",
              "    </tr>\n",
              "    <tr>\n",
              "      <th>1</th>\n",
              "      <td>Stranger Things</td>\n",
              "      <td>8.8</td>\n",
              "      <td>9.3</td>\n",
              "      <td>1</td>\n",
              "      <td>0</td>\n",
              "      <td>0</td>\n",
              "      <td>0</td>\n",
              "    </tr>\n",
              "    <tr>\n",
              "      <th>2</th>\n",
              "      <td>Money Heist</td>\n",
              "      <td>8.4</td>\n",
              "      <td>9.1</td>\n",
              "      <td>1</td>\n",
              "      <td>0</td>\n",
              "      <td>0</td>\n",
              "      <td>0</td>\n",
              "    </tr>\n",
              "    <tr>\n",
              "      <th>3</th>\n",
              "      <td>Sherlock</td>\n",
              "      <td>9.1</td>\n",
              "      <td>7.8</td>\n",
              "      <td>1</td>\n",
              "      <td>0</td>\n",
              "      <td>0</td>\n",
              "      <td>0</td>\n",
              "    </tr>\n",
              "    <tr>\n",
              "      <th>4</th>\n",
              "      <td>Better Call Saul</td>\n",
              "      <td>8.7</td>\n",
              "      <td>9.7</td>\n",
              "      <td>1</td>\n",
              "      <td>0</td>\n",
              "      <td>0</td>\n",
              "      <td>0</td>\n",
              "    </tr>\n",
              "  </tbody>\n",
              "</table>\n",
              "</div>"
            ],
            "text/plain": [
              "              Title  IMDb  Rotten Tomatoes  Netflix  Hulu  Prime Video  Disney+\n",
              "0      Breaking Bad   9.5              9.6        1     0            0        0\n",
              "1   Stranger Things   8.8              9.3        1     0            0        0\n",
              "2       Money Heist   8.4              9.1        1     0            0        0\n",
              "3          Sherlock   9.1              7.8        1     0            0        0\n",
              "4  Better Call Saul   8.7              9.7        1     0            0        0"
            ]
          },
          "metadata": {
            "tags": []
          },
          "execution_count": 53
        }
      ]
    },
    {
      "cell_type": "code",
      "metadata": {
        "id": "DcYXskbv69xN"
      },
      "source": [
        "# separando as avaliações por plataforma, agora sem valores nulos\n",
        "netflix_series = series.loc[(series['Netflix']==1)]\n",
        "hulu_series = series.loc[(series['Hulu']==1) & (series['Netflix']==0)]\n",
        "prime_series = series.loc[(series['Prime Video']==1) & (series['Netflix']==0) & (series['Hulu']==0)]\n",
        "disney_series = series.loc[(series['Disney+']==1) & (series['Netflix']==0) & (series['Hulu']==0) & (series['Prime Video']==0)]"
      ],
      "execution_count": null,
      "outputs": []
    },
    {
      "cell_type": "code",
      "metadata": {
        "id": "qBd801Mo_N_2"
      },
      "source": [
        "# validar a média final de cada plataforma no Rotten Tomatoes\n",
        "netflix_final = np.mean(netflix_series['Rotten Tomatoes'])\n",
        "hulu_final = np.mean(hulu_series['Rotten Tomatoes'])\n",
        "prime_final = np.mean(prime_series['Rotten Tomatoes'])\n",
        "disney_final = np.mean(disney_series['Rotten Tomatoes'])\n",
        "\n",
        "# validar a média final de cada plataforma no IMDb\n",
        "netflix_final_imdb = np.mean(netflix_series['IMDb'])\n",
        "hulu_final_imdb = np.mean(hulu_series['IMDb'])\n",
        "prime_final_imdb = np.mean(prime_series['IMDb'])\n",
        "disney_final_imdb = np.mean(disney_series['IMDb'])"
      ],
      "execution_count": null,
      "outputs": []
    },
    {
      "cell_type": "code",
      "metadata": {
        "id": "nGX2Vi9BCmHS",
        "outputId": "f1fe360a-fbdf-4a42-dc4b-0f9e461b2b36",
        "colab": {
          "base_uri": "https://localhost:8080/",
          "height": 85
        }
      },
      "source": [
        "print(\"Nota final de séries da netflix = {}\".format(round(np.mean([netflix_final, netflix_final_imdb]), 2)))\n",
        "print(\"Nota final de séries da Hulu = {}\".format(round(np.mean([hulu_final, hulu_final_imdb]), 2)))\n",
        "print(\"Nota final de séries do Prime Video = {}\".format(round(np.mean([prime_final, prime_final_imdb]), 2)))\n",
        "print(\"Nota final de séries da Disney = {}\".format(round(np.mean([disney_final, disney_final_imdb]), 2)))"
      ],
      "execution_count": null,
      "outputs": [
        {
          "output_type": "stream",
          "text": [
            "Nota final de séries da netflix = 7.67\n",
            "Nota final de séries da Hulu = 7.62\n",
            "Nota final de séries do Prime Video = 7.71\n",
            "Nota final de séries da Disney = 7.59\n"
          ],
          "name": "stdout"
        }
      ]
    }
  ]
}