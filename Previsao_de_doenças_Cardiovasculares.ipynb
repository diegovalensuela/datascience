{
  "nbformat": 4,
  "nbformat_minor": 0,
  "metadata": {
    "colab": {
      "name": "Previsao de doenças Cardiovasculares",
      "provenance": [],
      "collapsed_sections": [],
      "authorship_tag": "ABX9TyNGXhddCZzakVa2/MJjSH+N",
      "include_colab_link": true
    },
    "kernelspec": {
      "name": "python3",
      "display_name": "Python 3"
    }
  },
  "cells": [
    {
      "cell_type": "markdown",
      "metadata": {
        "id": "view-in-github",
        "colab_type": "text"
      },
      "source": [
        "<a href=\"https://colab.research.google.com/github/diegovalensuela/datascience/blob/master/Previsao_de_doen%C3%A7as_Cardiovasculares.ipynb\" target=\"_parent\"><img src=\"https://colab.research.google.com/assets/colab-badge.svg\" alt=\"Open In Colab\"/></a>"
      ]
    },
    {
      "cell_type": "markdown",
      "metadata": {
        "id": "TzNYgfyTZvdX"
      },
      "source": [
        "### <font color='orange'> 0.0. Business Understanding </font>\n",
        ">"
      ]
    },
    {
      "cell_type": "code",
      "metadata": {
        "id": "MB90mixgpKGX"
      },
      "source": [
        "# 1.0. Estratégia da Soluçao\n",
        "    -- Entender o objetivo do Projeto:\n",
        "        -- aumentar a precisão do diagnóstico\n",
        "\n",
        "    -- Porque?\n",
        "        -- Qual o modelo de negócio da empresa Cardio Catch Diseases (CCD)?  \n",
        "            -- O modelo de negócio é do tipo Serviço:\n",
        "                (a empresa ofereço o diagnóstico precoce de uma doença cardiovascular por um certo preço)\n",
        "            -- Demanda: pessoas procurando diagnostico precoce e pagando R$500 a cada 5% de precisão após os 50%  (se o diagnóstico for 50% ou menos o cliente não paga nada)\n",
        "\n",
        "        -- Cenário atual\n",
        "            -- processo feito manualmente, onde a equipe tem uma precisão variando entre 55% a 65% com o custo de diagnostico em torno de R$1000,00\n",
        "\n",
        "    -- Proposta de Solucao:\n",
        "        -- Modelo de Machine Learning que bata os 65% de precisão atual, acarretando com a diminuição no gasto de R$1000,00 por cada diagostico\n",
        "            \n",
        "# 2.0. Ciclos para criar solução\n",
        "    -- C1  Entender os dados\n",
        "    -- C2. Criar hipoteses de negócio\n",
        "            -- H1. Fumantes tem mais diagnosticos positivos\n",
        "            -- H2. Glicose alta impacta mais em diagnosticos positivos \n",
        "            -- H3. Colesterol alto impacta mais em diagnosticos positivos\n",
        "            -- H4. Pacientes fumantes tem pressão maior \n",
        "            -- H5. Porcentagem de homens com diagnostico positivo é maior\n",
        "            -- H6. Quanto mais velho, mais casos positivos\n",
        "            -- H7. A pressao arterial aumenta conforme o nivel do colesterol\n",
        "            -- H8. Há mais casos negativos que positivos\n",
        "            -- H9. Há muito mais pacientes que não fazem atividades fisicas do que fazem\n",
        "            -- H10. Pacientes que fazem atividade fisica tem menos diagnosticos positivos   \n",
        "    -- C3. Analise exploratória de dados \n",
        "            -- Validar ou refutar hiposteses\n",
        "            -- Tratar Outliers e/ou valores ausentes\n",
        "    -- C4. Dividir o modelo e treinar\n",
        "    -- C5. Terminar o modelo\n",
        "            -- Validar a performance do modelo"
      ],
      "execution_count": null,
      "outputs": []
    },
    {
      "cell_type": "markdown",
      "metadata": {
        "id": "YpXZCh4tOlb2"
      },
      "source": [
        "### <font color='orange'> 1.0. imports </font>"
      ]
    },
    {
      "cell_type": "code",
      "metadata": {
        "id": "c0RfTSykzD-a"
      },
      "source": [
        "import pandas as pd\n",
        "from sklearn import linear_model as lm\n",
        "import numpy as np\n",
        "import seaborn as sns\n",
        "import matplotlib.pyplot as plt\n",
        "import warnings\n",
        "from sklearn.linear_model import LogisticRegression as lr\n",
        "from sklearn.metrics import accuracy_score\n",
        "from sklearn.model_selection import train_test_split\n",
        "from sklearn.preprocessing import StandardScaler\n",
        "from sklearn.preprocessing import LabelEncoder\n",
        "\n",
        "# ignorar avisos sobre mudanças da linguagem\n",
        "warnings.filterwarnings(\"ignore\")"
      ],
      "execution_count": 1,
      "outputs": []
    },
    {
      "cell_type": "markdown",
      "metadata": {
        "id": "iLOSOsulQXw4"
      },
      "source": [
        "### <font color='orange'> 2.0. Loading data </font>"
      ]
    },
    {
      "cell_type": "code",
      "metadata": {
        "id": "D8Efp8cPzP9R"
      },
      "source": [
        "df = pd.read_csv('https://raw.githubusercontent.com/diegovalensuela/datascience/master/Datasets/cardio_dataset/cardio_train.csv', sep=';')"
      ],
      "execution_count": 2,
      "outputs": []
    },
    {
      "cell_type": "code",
      "metadata": {
        "id": "WUMke5M3zW1t",
        "outputId": "1bcd1294-c589-4a22-9353-9ae96878e681",
        "colab": {
          "base_uri": "https://localhost:8080/",
          "height": 204
        }
      },
      "source": [
        "# visualizar as primeiras 5 entradas do dataset\n",
        "df.head()"
      ],
      "execution_count": null,
      "outputs": [
        {
          "output_type": "execute_result",
          "data": {
            "text/html": [
              "<div>\n",
              "<style scoped>\n",
              "    .dataframe tbody tr th:only-of-type {\n",
              "        vertical-align: middle;\n",
              "    }\n",
              "\n",
              "    .dataframe tbody tr th {\n",
              "        vertical-align: top;\n",
              "    }\n",
              "\n",
              "    .dataframe thead th {\n",
              "        text-align: right;\n",
              "    }\n",
              "</style>\n",
              "<table border=\"1\" class=\"dataframe\">\n",
              "  <thead>\n",
              "    <tr style=\"text-align: right;\">\n",
              "      <th></th>\n",
              "      <th>id</th>\n",
              "      <th>age</th>\n",
              "      <th>gender</th>\n",
              "      <th>height</th>\n",
              "      <th>weight</th>\n",
              "      <th>ap_hi</th>\n",
              "      <th>ap_lo</th>\n",
              "      <th>cholesterol</th>\n",
              "      <th>gluc</th>\n",
              "      <th>smoke</th>\n",
              "      <th>alco</th>\n",
              "      <th>active</th>\n",
              "      <th>cardio</th>\n",
              "    </tr>\n",
              "  </thead>\n",
              "  <tbody>\n",
              "    <tr>\n",
              "      <th>0</th>\n",
              "      <td>0</td>\n",
              "      <td>18393</td>\n",
              "      <td>2</td>\n",
              "      <td>168</td>\n",
              "      <td>62.0</td>\n",
              "      <td>110</td>\n",
              "      <td>80</td>\n",
              "      <td>1</td>\n",
              "      <td>1</td>\n",
              "      <td>0</td>\n",
              "      <td>0</td>\n",
              "      <td>1</td>\n",
              "      <td>0</td>\n",
              "    </tr>\n",
              "    <tr>\n",
              "      <th>1</th>\n",
              "      <td>1</td>\n",
              "      <td>20228</td>\n",
              "      <td>1</td>\n",
              "      <td>156</td>\n",
              "      <td>85.0</td>\n",
              "      <td>140</td>\n",
              "      <td>90</td>\n",
              "      <td>3</td>\n",
              "      <td>1</td>\n",
              "      <td>0</td>\n",
              "      <td>0</td>\n",
              "      <td>1</td>\n",
              "      <td>1</td>\n",
              "    </tr>\n",
              "    <tr>\n",
              "      <th>2</th>\n",
              "      <td>2</td>\n",
              "      <td>18857</td>\n",
              "      <td>1</td>\n",
              "      <td>165</td>\n",
              "      <td>64.0</td>\n",
              "      <td>130</td>\n",
              "      <td>70</td>\n",
              "      <td>3</td>\n",
              "      <td>1</td>\n",
              "      <td>0</td>\n",
              "      <td>0</td>\n",
              "      <td>0</td>\n",
              "      <td>1</td>\n",
              "    </tr>\n",
              "    <tr>\n",
              "      <th>3</th>\n",
              "      <td>3</td>\n",
              "      <td>17623</td>\n",
              "      <td>2</td>\n",
              "      <td>169</td>\n",
              "      <td>82.0</td>\n",
              "      <td>150</td>\n",
              "      <td>100</td>\n",
              "      <td>1</td>\n",
              "      <td>1</td>\n",
              "      <td>0</td>\n",
              "      <td>0</td>\n",
              "      <td>1</td>\n",
              "      <td>1</td>\n",
              "    </tr>\n",
              "    <tr>\n",
              "      <th>4</th>\n",
              "      <td>4</td>\n",
              "      <td>17474</td>\n",
              "      <td>1</td>\n",
              "      <td>156</td>\n",
              "      <td>56.0</td>\n",
              "      <td>100</td>\n",
              "      <td>60</td>\n",
              "      <td>1</td>\n",
              "      <td>1</td>\n",
              "      <td>0</td>\n",
              "      <td>0</td>\n",
              "      <td>0</td>\n",
              "      <td>0</td>\n",
              "    </tr>\n",
              "  </tbody>\n",
              "</table>\n",
              "</div>"
            ],
            "text/plain": [
              "   id    age  gender  height  weight  ...  gluc  smoke  alco  active  cardio\n",
              "0   0  18393       2     168    62.0  ...     1      0     0       1       0\n",
              "1   1  20228       1     156    85.0  ...     1      0     0       1       1\n",
              "2   2  18857       1     165    64.0  ...     1      0     0       0       1\n",
              "3   3  17623       2     169    82.0  ...     1      0     0       1       1\n",
              "4   4  17474       1     156    56.0  ...     1      0     0       0       0\n",
              "\n",
              "[5 rows x 13 columns]"
            ]
          },
          "metadata": {
            "tags": []
          },
          "execution_count": 42
        }
      ]
    },
    {
      "cell_type": "code",
      "metadata": {
        "id": "gAi59WQQcvf7"
      },
      "source": [
        "          age         = Idade do paciente em dias\n",
        "          gender      = Genero do paciente, sendo 1 para mulher e 2 para homem;\n",
        "          height      = Altura em cm;\n",
        "          weight      = Peso em Kg;\n",
        "          ap_hi       = Pressão arterial sistolica\n",
        "          ap_lo       = Pressão arterial diastólica\n",
        "          cholesterol = Nivel do colesterol, sendo 1 para normal, 2 para acima do normal e 3 para muito acima do normal\n",
        "          gluc        = Nivel de glicose, sendo 1 para normal, 2 para acima do normal e 3 para muito acima do normal\n",
        "          smoke       = Paciente ser fumante ou não\n",
        "          alco        = Paciente ser alcoolatra ou não\n",
        "          active      = Paciente ser ativo, se pratica esporte ou não\n",
        "          cardio      = Variavel target"
      ],
      "execution_count": null,
      "outputs": []
    },
    {
      "cell_type": "code",
      "metadata": {
        "id": "vkmPRavOwJoJ"
      },
      "source": [
        "          # https://www.diferenca.com/sistole-e-diastole/#:~:text=A%20s%C3%ADstole%20%C3%A9%20a%20fase,diast%C3%B3lica%20%C3%A9%20de%2080%20mmHg.\n",
        "\n",
        "          A sistole e a diastole são dois estágios do ciclo cardíaco. A sístole é a fase de contração do coração, \n",
        "          onde o sangue é bombeado para os vasos sanguíneos. \n",
        "          já a diástole é a fase de relaxamento, fazendo com que o sangue entre no coração.\n",
        "          \n",
        "          Em um adulto normal, a média da pressão sistólica é de 120 milímetros de mercúrio (mmHg), enquanto a diastólica é de 80 mmHg.\n",
        "          Então, se o médico diz que sua pressão está 12 por 8, significa que na sístole ela é de 120 mmHg e na diástole é de 80 mmHg.\n",
        "\n",
        "          A leitura da pressão sanguínea é medida em milímetros de mercúrio (mmHg) e é fornecida em dois números."
      ],
      "execution_count": null,
      "outputs": []
    },
    {
      "cell_type": "markdown",
      "metadata": {
        "id": "Fm8Ui3ieUTWi"
      },
      "source": [
        "### <font color='orange'> 3.0. Data Preparation </font>"
      ]
    },
    {
      "cell_type": "code",
      "metadata": {
        "id": "ijHHE-aHI9cv"
      },
      "source": [
        "# criar a variavel idade em anos para melhor visualizacao\n",
        "df['idade'] = round(df['age'].apply(lambda x: int(x)/365))"
      ],
      "execution_count": 3,
      "outputs": []
    },
    {
      "cell_type": "code",
      "metadata": {
        "id": "FI0_1u59njhF",
        "outputId": "efd777f3-b065-4ef2-fd78-4cb2e5d8b103",
        "colab": {
          "base_uri": "https://localhost:8080/"
        }
      },
      "source": [
        "# identificar o tipo das variaveis\n",
        "df.dtypes"
      ],
      "execution_count": null,
      "outputs": [
        {
          "output_type": "execute_result",
          "data": {
            "text/plain": [
              "id               int64\n",
              "age              int64\n",
              "gender           int64\n",
              "height           int64\n",
              "weight         float64\n",
              "ap_hi            int64\n",
              "ap_lo            int64\n",
              "cholesterol      int64\n",
              "gluc             int64\n",
              "smoke            int64\n",
              "alco             int64\n",
              "active           int64\n",
              "cardio           int64\n",
              "idade          float64\n",
              "dtype: object"
            ]
          },
          "metadata": {
            "tags": []
          },
          "execution_count": 5
        }
      ]
    },
    {
      "cell_type": "code",
      "metadata": {
        "id": "qEFZTl-70vU3",
        "outputId": "1e014a39-1cb0-4bd4-a3f7-b0914c43e6f4",
        "colab": {
          "base_uri": "https://localhost:8080/"
        }
      },
      "source": [
        "# ver se há valores faltantes\n",
        "df.isnull().sum()"
      ],
      "execution_count": null,
      "outputs": [
        {
          "output_type": "execute_result",
          "data": {
            "text/plain": [
              "id             0\n",
              "age            0\n",
              "gender         0\n",
              "height         0\n",
              "weight         0\n",
              "ap_hi          0\n",
              "ap_lo          0\n",
              "cholesterol    0\n",
              "gluc           0\n",
              "smoke          0\n",
              "alco           0\n",
              "active         0\n",
              "cardio         0\n",
              "idade          0\n",
              "dtype: int64"
            ]
          },
          "metadata": {
            "tags": []
          },
          "execution_count": 6
        }
      ]
    },
    {
      "cell_type": "code",
      "metadata": {
        "id": "Q2HT81hIFjkk",
        "outputId": "e4faf66f-8d84-4254-9201-e55501597f24",
        "colab": {
          "base_uri": "https://localhost:8080/"
        }
      },
      "source": [
        "# quantos pacientes de cada sexo / 1 - Mulher 2 - Homem\n",
        "df['gender'].value_counts()"
      ],
      "execution_count": null,
      "outputs": [
        {
          "output_type": "execute_result",
          "data": {
            "text/plain": [
              "1    45530\n",
              "2    24470\n",
              "Name: gender, dtype: int64"
            ]
          },
          "metadata": {
            "tags": []
          },
          "execution_count": 5
        }
      ]
    },
    {
      "cell_type": "markdown",
      "metadata": {
        "id": "DS2zj44Q05Am"
      },
      "source": [
        "#### <font color='orange'> 3.1. Hypotheses Validation </font>"
      ]
    },
    {
      "cell_type": "code",
      "metadata": {
        "id": "YZwaP6wyF0zc",
        "outputId": "9125348f-3d5d-4eb3-fd89-4fd583b61194",
        "colab": {
          "base_uri": "https://localhost:8080/",
          "height": 391
        }
      },
      "source": [
        "# plotar graficos para cardio vs smoke, gluc e cholesterol\n",
        "# H1, H2 e H3;\n",
        "fig, (axis1, axis2, axis3) = plt.subplots(1, 3, figsize=(18, 6))\n",
        "\n",
        "sns.barplot(x='cardio', y='smoke', data=df, ax=axis1)\n",
        "sns.barplot(x='gluc', y='cardio', data=df, ax=axis2)\n",
        "sns.barplot(x='cholesterol', y='cardio', data=df, ax=axis3);"
      ],
      "execution_count": null,
      "outputs": [
        {
          "output_type": "display_data",
          "data": {
            "image/png": "[encoded data removed]",
            "text/plain": [
              "<Figure size 1296x432 with 3 Axes>"
            ]
          },
          "metadata": {
            "tags": [],
            "needs_background": "light"
          }
        }
      ]
    },
    {
      "cell_type": "code",
      "metadata": {
        "id": "ySl6GwWQR3vZ",
        "outputId": "fbf83bcf-6640-4f84-daa2-0fb9393df2a4",
        "colab": {
          "base_uri": "https://localhost:8080/",
          "height": 142
        }
      },
      "source": [
        "# verificar a média da pressão sistolica em fumantes\n",
        "#H4\n",
        "df[['smoke', 'ap_hi']].groupby(['smoke']).mean()"
      ],
      "execution_count": null,
      "outputs": [
        {
          "output_type": "execute_result",
          "data": {
            "text/html": [
              "<div>\n",
              "<style scoped>\n",
              "    .dataframe tbody tr th:only-of-type {\n",
              "        vertical-align: middle;\n",
              "    }\n",
              "\n",
              "    .dataframe tbody tr th {\n",
              "        vertical-align: top;\n",
              "    }\n",
              "\n",
              "    .dataframe thead th {\n",
              "        text-align: right;\n",
              "    }\n",
              "</style>\n",
              "<table border=\"1\" class=\"dataframe\">\n",
              "  <thead>\n",
              "    <tr style=\"text-align: right;\">\n",
              "      <th></th>\n",
              "      <th>ap_hi</th>\n",
              "    </tr>\n",
              "    <tr>\n",
              "      <th>smoke</th>\n",
              "      <th></th>\n",
              "    </tr>\n",
              "  </thead>\n",
              "  <tbody>\n",
              "    <tr>\n",
              "      <th>0</th>\n",
              "      <td>128.861431</td>\n",
              "    </tr>\n",
              "    <tr>\n",
              "      <th>1</th>\n",
              "      <td>128.360512</td>\n",
              "    </tr>\n",
              "  </tbody>\n",
              "</table>\n",
              "</div>"
            ],
            "text/plain": [
              "            ap_hi\n",
              "smoke            \n",
              "0      128.861431\n",
              "1      128.360512"
            ]
          },
          "metadata": {
            "tags": []
          },
          "execution_count": 12
        }
      ]
    },
    {
      "cell_type": "code",
      "metadata": {
        "id": "vwe0HvqBToOt",
        "outputId": "0d823e67-ad06-4ceb-8829-ff79d13419c7",
        "colab": {
          "base_uri": "https://localhost:8080/",
          "height": 142
        }
      },
      "source": [
        "# verificar a média da pressão diastolica em fumantes\n",
        "# H4\n",
        "df[['smoke', 'ap_lo']].groupby(['smoke']).mean()"
      ],
      "execution_count": null,
      "outputs": [
        {
          "output_type": "execute_result",
          "data": {
            "text/html": [
              "<div>\n",
              "<style scoped>\n",
              "    .dataframe tbody tr th:only-of-type {\n",
              "        vertical-align: middle;\n",
              "    }\n",
              "\n",
              "    .dataframe tbody tr th {\n",
              "        vertical-align: top;\n",
              "    }\n",
              "\n",
              "    .dataframe thead th {\n",
              "        text-align: right;\n",
              "    }\n",
              "</style>\n",
              "<table border=\"1\" class=\"dataframe\">\n",
              "  <thead>\n",
              "    <tr style=\"text-align: right;\">\n",
              "      <th></th>\n",
              "      <th>ap_lo</th>\n",
              "    </tr>\n",
              "    <tr>\n",
              "      <th>smoke</th>\n",
              "      <th></th>\n",
              "    </tr>\n",
              "  </thead>\n",
              "  <tbody>\n",
              "    <tr>\n",
              "      <th>0</th>\n",
              "      <td>96.326550</td>\n",
              "    </tr>\n",
              "    <tr>\n",
              "      <th>1</th>\n",
              "      <td>99.774518</td>\n",
              "    </tr>\n",
              "  </tbody>\n",
              "</table>\n",
              "</div>"
            ],
            "text/plain": [
              "           ap_lo\n",
              "smoke           \n",
              "0      96.326550\n",
              "1      99.774518"
            ]
          },
          "metadata": {
            "tags": []
          },
          "execution_count": 13
        }
      ]
    },
    {
      "cell_type": "code",
      "metadata": {
        "id": "5GAy-NhOqpjZ",
        "outputId": "98dafecc-3fd3-4895-a7be-78c144b2df05",
        "colab": {
          "base_uri": "https://localhost:8080/",
          "height": 142
        }
      },
      "source": [
        "# qual genero tem mais diagnosticos positivos? 1 - Mulher 2 - Homem\n",
        "# H5\n",
        "df[['gender', 'cardio']].groupby(['gender']).mean()"
      ],
      "execution_count": null,
      "outputs": [
        {
          "output_type": "execute_result",
          "data": {
            "text/html": [
              "<div>\n",
              "<style scoped>\n",
              "    .dataframe tbody tr th:only-of-type {\n",
              "        vertical-align: middle;\n",
              "    }\n",
              "\n",
              "    .dataframe tbody tr th {\n",
              "        vertical-align: top;\n",
              "    }\n",
              "\n",
              "    .dataframe thead th {\n",
              "        text-align: right;\n",
              "    }\n",
              "</style>\n",
              "<table border=\"1\" class=\"dataframe\">\n",
              "  <thead>\n",
              "    <tr style=\"text-align: right;\">\n",
              "      <th></th>\n",
              "      <th>cardio</th>\n",
              "    </tr>\n",
              "    <tr>\n",
              "      <th>gender</th>\n",
              "      <th></th>\n",
              "    </tr>\n",
              "  </thead>\n",
              "  <tbody>\n",
              "    <tr>\n",
              "      <th>1</th>\n",
              "      <td>0.496727</td>\n",
              "    </tr>\n",
              "    <tr>\n",
              "      <th>2</th>\n",
              "      <td>0.505231</td>\n",
              "    </tr>\n",
              "  </tbody>\n",
              "</table>\n",
              "</div>"
            ],
            "text/plain": [
              "          cardio\n",
              "gender          \n",
              "1       0.496727\n",
              "2       0.505231"
            ]
          },
          "metadata": {
            "tags": []
          },
          "execution_count": 9
        }
      ]
    },
    {
      "cell_type": "code",
      "metadata": {
        "id": "i_jzQyXaDleQ",
        "outputId": "42565450-608f-4989-b70a-ab002f719c35",
        "colab": {
          "base_uri": "https://localhost:8080/",
          "height": 225
        }
      },
      "source": [
        "# ver a influencia da idade na probabilidade de diagnóstico positivo\n",
        "# H6\n",
        "idade_relacao = sns.FacetGrid(df, col='cardio')\n",
        "idade_relacao.map(sns.distplot, 'idade');"
      ],
      "execution_count": null,
      "outputs": [
        {
          "output_type": "display_data",
          "data": {
            "image/png": "[encoded data removed]",
            "text/plain": [
              "<Figure size 432x216 with 2 Axes>"
            ]
          },
          "metadata": {
            "tags": [],
            "needs_background": "light"
          }
        }
      ]
    },
    {
      "cell_type": "code",
      "metadata": {
        "id": "aSVAfoF4mvAY",
        "outputId": "90f2a23f-dbab-47a6-da2d-2a72bfdedffa",
        "colab": {
          "base_uri": "https://localhost:8080/",
          "height": 334
        }
      },
      "source": [
        "# verificar o nivel de pressão em relação ao colesterol alto\n",
        "# H7\n",
        "fig, (axis1, axis2) = plt.subplots(1, 2, figsize=(14, 5))\n",
        "sns.barplot(x='cholesterol', y='ap_hi', data=df, ax=axis1)\n",
        "sns.barplot(x='cholesterol', y='ap_lo', data=df, ax=axis2);"
      ],
      "execution_count": null,
      "outputs": [
        {
          "output_type": "display_data",
          "data": {
            "image/png": "[encoded data removed]",
            "text/plain": [
              "<Figure size 1008x360 with 2 Axes>"
            ]
          },
          "metadata": {
            "tags": [],
            "needs_background": "light"
          }
        }
      ]
    },
    {
      "cell_type": "code",
      "metadata": {
        "id": "3vJJNtUV7uQ6",
        "outputId": "a5475e30-3719-4e3c-b318-f4e39515d389",
        "colab": {
          "base_uri": "https://localhost:8080/",
          "height": 363
        }
      },
      "source": [
        "# ver porcentagem dos diagnosticos / sendo 0 - negativo e 1 - positivo\n",
        "# H8\n",
        "print('Diagnósticos:')\n",
        "print(df.cardio.value_counts()/ df.shape[0])\n",
        "\n",
        "# plotar grafico de barras com os diagnosticos\n",
        "fig, ax = plt.subplots()\n",
        "sns.countplot('cardio', data=df, ax=ax)\n",
        "ax.set_title('Diagnósticos')\n",
        "plt.show();"
      ],
      "execution_count": null,
      "outputs": [
        {
          "output_type": "stream",
          "text": [
            "Diagnósticos:\n",
            "0    0.5003\n",
            "1    0.4997\n",
            "Name: cardio, dtype: float64\n"
          ],
          "name": "stdout"
        },
        {
          "output_type": "display_data",
          "data": {
            "image/png": "[encoded data removed]",
            "text/plain": [
              "<Figure size 432x288 with 1 Axes>"
            ]
          },
          "metadata": {
            "tags": [],
            "needs_background": "light"
          }
        }
      ]
    },
    {
      "cell_type": "code",
      "metadata": {
        "id": "e7ocl9wYEQ2w",
        "outputId": "d7ef9f1d-398a-4620-96ac-7cd66b28273d",
        "colab": {
          "base_uri": "https://localhost:8080/"
        }
      },
      "source": [
        "# quantos pacientes realizam atividade fisica (sendo 1 - ativo fisicamente; 2 - não ativo fisicamente)\n",
        "# H9\n",
        "df['active'].value_counts()"
      ],
      "execution_count": null,
      "outputs": [
        {
          "output_type": "execute_result",
          "data": {
            "text/plain": [
              "1    56261\n",
              "0    13739\n",
              "Name: active, dtype: int64"
            ]
          },
          "metadata": {
            "tags": []
          },
          "execution_count": 34
        }
      ]
    },
    {
      "cell_type": "code",
      "metadata": {
        "id": "TkGbFqKsGwjo",
        "outputId": "8a6fd00e-c5b5-4e1f-bfa6-2c258bc7d68e",
        "colab": {
          "base_uri": "https://localhost:8080/",
          "height": 279
        }
      },
      "source": [
        "# plotar graficos para cardio vs active \n",
        "# H10\n",
        "sns.barplot(x='active', y='cardio', data=df);"
      ],
      "execution_count": null,
      "outputs": [
        {
          "output_type": "display_data",
          "data": {
            "image/png": "[encoded data removed]",
            "text/plain": [
              "<Figure size 432x288 with 1 Axes>"
            ]
          },
          "metadata": {
            "tags": [],
            "needs_background": "light"
          }
        }
      ]
    },
    {
      "cell_type": "markdown",
      "metadata": {
        "id": "E2HLaEXRUdCE"
      },
      "source": [
        "#### <font color='orange'> 3.2. Detecção de Outliers </font>"
      ]
    },
    {
      "cell_type": "code",
      "metadata": {
        "id": "sDHa83WBzaCN",
        "outputId": "b7126e5a-e03a-4cbc-90f4-ed0e536d3481",
        "colab": {
          "base_uri": "https://localhost:8080/",
          "height": 483
        }
      },
      "source": [
        "# distribuicao estatistica dos dados\n",
        "df.describe().T"
      ],
      "execution_count": null,
      "outputs": [
        {
          "output_type": "execute_result",
          "data": {
            "text/html": [
              "<div>\n",
              "<style scoped>\n",
              "    .dataframe tbody tr th:only-of-type {\n",
              "        vertical-align: middle;\n",
              "    }\n",
              "\n",
              "    .dataframe tbody tr th {\n",
              "        vertical-align: top;\n",
              "    }\n",
              "\n",
              "    .dataframe thead th {\n",
              "        text-align: right;\n",
              "    }\n",
              "</style>\n",
              "<table border=\"1\" class=\"dataframe\">\n",
              "  <thead>\n",
              "    <tr style=\"text-align: right;\">\n",
              "      <th></th>\n",
              "      <th>count</th>\n",
              "      <th>mean</th>\n",
              "      <th>std</th>\n",
              "      <th>min</th>\n",
              "      <th>25%</th>\n",
              "      <th>50%</th>\n",
              "      <th>75%</th>\n",
              "      <th>max</th>\n",
              "    </tr>\n",
              "  </thead>\n",
              "  <tbody>\n",
              "    <tr>\n",
              "      <th>id</th>\n",
              "      <td>70000.0</td>\n",
              "      <td>49972.419900</td>\n",
              "      <td>28851.302323</td>\n",
              "      <td>0.0</td>\n",
              "      <td>25006.75</td>\n",
              "      <td>50001.5</td>\n",
              "      <td>74889.25</td>\n",
              "      <td>99999.0</td>\n",
              "    </tr>\n",
              "    <tr>\n",
              "      <th>age</th>\n",
              "      <td>70000.0</td>\n",
              "      <td>19468.865814</td>\n",
              "      <td>2467.251667</td>\n",
              "      <td>10798.0</td>\n",
              "      <td>17664.00</td>\n",
              "      <td>19703.0</td>\n",
              "      <td>21327.00</td>\n",
              "      <td>23713.0</td>\n",
              "    </tr>\n",
              "    <tr>\n",
              "      <th>gender</th>\n",
              "      <td>70000.0</td>\n",
              "      <td>1.349571</td>\n",
              "      <td>0.476838</td>\n",
              "      <td>1.0</td>\n",
              "      <td>1.00</td>\n",
              "      <td>1.0</td>\n",
              "      <td>2.00</td>\n",
              "      <td>2.0</td>\n",
              "    </tr>\n",
              "    <tr>\n",
              "      <th>height</th>\n",
              "      <td>70000.0</td>\n",
              "      <td>164.359229</td>\n",
              "      <td>8.210126</td>\n",
              "      <td>55.0</td>\n",
              "      <td>159.00</td>\n",
              "      <td>165.0</td>\n",
              "      <td>170.00</td>\n",
              "      <td>250.0</td>\n",
              "    </tr>\n",
              "    <tr>\n",
              "      <th>weight</th>\n",
              "      <td>70000.0</td>\n",
              "      <td>74.205690</td>\n",
              "      <td>14.395757</td>\n",
              "      <td>10.0</td>\n",
              "      <td>65.00</td>\n",
              "      <td>72.0</td>\n",
              "      <td>82.00</td>\n",
              "      <td>200.0</td>\n",
              "    </tr>\n",
              "    <tr>\n",
              "      <th>ap_hi</th>\n",
              "      <td>70000.0</td>\n",
              "      <td>128.817286</td>\n",
              "      <td>154.011419</td>\n",
              "      <td>-150.0</td>\n",
              "      <td>120.00</td>\n",
              "      <td>120.0</td>\n",
              "      <td>140.00</td>\n",
              "      <td>16020.0</td>\n",
              "    </tr>\n",
              "    <tr>\n",
              "      <th>ap_lo</th>\n",
              "      <td>70000.0</td>\n",
              "      <td>96.630414</td>\n",
              "      <td>188.472530</td>\n",
              "      <td>-70.0</td>\n",
              "      <td>80.00</td>\n",
              "      <td>80.0</td>\n",
              "      <td>90.00</td>\n",
              "      <td>11000.0</td>\n",
              "    </tr>\n",
              "    <tr>\n",
              "      <th>cholesterol</th>\n",
              "      <td>70000.0</td>\n",
              "      <td>1.366871</td>\n",
              "      <td>0.680250</td>\n",
              "      <td>1.0</td>\n",
              "      <td>1.00</td>\n",
              "      <td>1.0</td>\n",
              "      <td>2.00</td>\n",
              "      <td>3.0</td>\n",
              "    </tr>\n",
              "    <tr>\n",
              "      <th>gluc</th>\n",
              "      <td>70000.0</td>\n",
              "      <td>1.226457</td>\n",
              "      <td>0.572270</td>\n",
              "      <td>1.0</td>\n",
              "      <td>1.00</td>\n",
              "      <td>1.0</td>\n",
              "      <td>1.00</td>\n",
              "      <td>3.0</td>\n",
              "    </tr>\n",
              "    <tr>\n",
              "      <th>smoke</th>\n",
              "      <td>70000.0</td>\n",
              "      <td>0.088129</td>\n",
              "      <td>0.283484</td>\n",
              "      <td>0.0</td>\n",
              "      <td>0.00</td>\n",
              "      <td>0.0</td>\n",
              "      <td>0.00</td>\n",
              "      <td>1.0</td>\n",
              "    </tr>\n",
              "    <tr>\n",
              "      <th>alco</th>\n",
              "      <td>70000.0</td>\n",
              "      <td>0.053771</td>\n",
              "      <td>0.225568</td>\n",
              "      <td>0.0</td>\n",
              "      <td>0.00</td>\n",
              "      <td>0.0</td>\n",
              "      <td>0.00</td>\n",
              "      <td>1.0</td>\n",
              "    </tr>\n",
              "    <tr>\n",
              "      <th>active</th>\n",
              "      <td>70000.0</td>\n",
              "      <td>0.803729</td>\n",
              "      <td>0.397179</td>\n",
              "      <td>0.0</td>\n",
              "      <td>1.00</td>\n",
              "      <td>1.0</td>\n",
              "      <td>1.00</td>\n",
              "      <td>1.0</td>\n",
              "    </tr>\n",
              "    <tr>\n",
              "      <th>cardio</th>\n",
              "      <td>70000.0</td>\n",
              "      <td>0.499700</td>\n",
              "      <td>0.500003</td>\n",
              "      <td>0.0</td>\n",
              "      <td>0.00</td>\n",
              "      <td>0.0</td>\n",
              "      <td>1.00</td>\n",
              "      <td>1.0</td>\n",
              "    </tr>\n",
              "    <tr>\n",
              "      <th>idade</th>\n",
              "      <td>70000.0</td>\n",
              "      <td>53.338686</td>\n",
              "      <td>6.765294</td>\n",
              "      <td>30.0</td>\n",
              "      <td>48.00</td>\n",
              "      <td>54.0</td>\n",
              "      <td>58.00</td>\n",
              "      <td>65.0</td>\n",
              "    </tr>\n",
              "  </tbody>\n",
              "</table>\n",
              "</div>"
            ],
            "text/plain": [
              "               count          mean           std  ...      50%       75%      max\n",
              "id           70000.0  49972.419900  28851.302323  ...  50001.5  74889.25  99999.0\n",
              "age          70000.0  19468.865814   2467.251667  ...  19703.0  21327.00  23713.0\n",
              "gender       70000.0      1.349571      0.476838  ...      1.0      2.00      2.0\n",
              "height       70000.0    164.359229      8.210126  ...    165.0    170.00    250.0\n",
              "weight       70000.0     74.205690     14.395757  ...     72.0     82.00    200.0\n",
              "ap_hi        70000.0    128.817286    154.011419  ...    120.0    140.00  16020.0\n",
              "ap_lo        70000.0     96.630414    188.472530  ...     80.0     90.00  11000.0\n",
              "cholesterol  70000.0      1.366871      0.680250  ...      1.0      2.00      3.0\n",
              "gluc         70000.0      1.226457      0.572270  ...      1.0      1.00      3.0\n",
              "smoke        70000.0      0.088129      0.283484  ...      0.0      0.00      1.0\n",
              "alco         70000.0      0.053771      0.225568  ...      0.0      0.00      1.0\n",
              "active       70000.0      0.803729      0.397179  ...      1.0      1.00      1.0\n",
              "cardio       70000.0      0.499700      0.500003  ...      0.0      1.00      1.0\n",
              "idade        70000.0     53.338686      6.765294  ...     54.0     58.00     65.0\n",
              "\n",
              "[14 rows x 8 columns]"
            ]
          },
          "metadata": {
            "tags": []
          },
          "execution_count": 7
        }
      ]
    },
    {
      "cell_type": "code",
      "metadata": {
        "id": "QVm6bo0VKBAE",
        "outputId": "23e13ad0-16cb-440c-bbdc-22593320cb44",
        "colab": {
          "base_uri": "https://localhost:8080/",
          "height": 404
        }
      },
      "source": [
        "# verificar outliers da variavel ap_hi (sistolica) e ap_lo (distolica)\n",
        "fig, (axis1, axis2) = plt.subplots(1, 2, figsize=(14, 6))\n",
        "\n",
        "sns.scatterplot(x='idade', y='ap_hi', data=df, ax=axis1)\n",
        "axis1.set_title('Pressao Sistolica')\n",
        "sns.scatterplot(x='idade', y='ap_lo', data=df, ax=axis2)\n",
        "axis2.set_title('Pressao Diastolica');"
      ],
      "execution_count": null,
      "outputs": [
        {
          "output_type": "display_data",
          "data": {
            "image/png": "[encoded data removed]",
            "text/plain": [
              "<Figure size 1008x432 with 2 Axes>"
            ]
          },
          "metadata": {
            "tags": [],
            "needs_background": "light"
          }
        }
      ]
    },
    {
      "cell_type": "code",
      "metadata": {
        "id": "w1XGwDCoeE5-",
        "outputId": "521cc54a-bf37-4a6e-a8dc-29d10ed5f028",
        "colab": {
          "base_uri": "https://localhost:8080/"
        }
      },
      "source": [
        "# tratamento de Outlier para ap_hi(Pressao Sistolica)\n",
        "# interquartil\n",
        "IQR_sistolic = df.ap_hi.quantile(0.75) - df.ap_hi.quantile(0.25)\n",
        "quartil_inf_sistolic = df.ap_hi.quantile(0.25) - (3 * IQR_sistolic)\n",
        "quartil_sup_sistolic = df.ap_hi.quantile(0.75) + (3 * IQR_sistolic)\n",
        "print('Os valores de Pressão Sistolica que serão considerados Outliers estao entre {} e {}'. format(quartil_inf_sistolic,quartil_sup_sistolic))"
      ],
      "execution_count": null,
      "outputs": [
        {
          "output_type": "stream",
          "text": [
            "Os valores de Pressão Sistolica que serão considerados Outliers estao entre 60.0 e 200.0\n"
          ],
          "name": "stdout"
        }
      ]
    },
    {
      "cell_type": "code",
      "metadata": {
        "id": "R1OB1TMClnl7",
        "outputId": "78e6e0d0-2ceb-4893-cc03-571b4c0f0cad",
        "colab": {
          "base_uri": "https://localhost:8080/"
        }
      },
      "source": [
        "# tratamento de Outlier para ap_lo(Pressao Diastolica)\n",
        "# interquartil\n",
        "IQR_distolic = df.ap_lo.quantile(0.75) - df.ap_lo.quantile(0.25)\n",
        "quartil_inf_distolic = df.ap_lo.quantile(0.25) - (3 * IQR_distolic)\n",
        "quartil_sup_distolic = df.ap_lo.quantile(0.75) + (3 * IQR_distolic)\n",
        "print('Os valores de Pressão Diastolica que serão considerados Outliers estao entre {} e {}'. format(quartil_inf_distolic,quartil_sup_distolic))"
      ],
      "execution_count": null,
      "outputs": [
        {
          "output_type": "stream",
          "text": [
            "Os valores de Pressão Distolica que serão considerados Outliers estao entre 50.0 e 120.0\n"
          ],
          "name": "stdout"
        }
      ]
    },
    {
      "cell_type": "code",
      "metadata": {
        "id": "5Us2axSd-5uQ",
        "outputId": "608ec89e-f4aa-4945-96cf-4e1945d64c3e",
        "colab": {
          "base_uri": "https://localhost:8080/"
        }
      },
      "source": [
        "# identificar quantos valores estão sendo considerados outliers, seja abaixo ou acima\n",
        "print('Valores maiores que 200 na coluna ap_hi: {}'.format(df.loc[(df['ap_hi'] > 200)].value_counts().sum()))\n",
        "print('Valores maiores que 120 na coluna ap_lo: {}'.format(df.loc[(df['ap_lo'] > 120)].value_counts().sum()))\n",
        "print('Valores menores que 60 na coluna ap_hi: {}'.format(df.loc[(df['ap_hi'] < 60)].value_counts().sum()))\n",
        "print('Valores menores que 50 na coluna ap_lo: {}'.format(df.loc[(df['ap_lo'] < 50)].value_counts().sum()))"
      ],
      "execution_count": 4,
      "outputs": [
        {
          "output_type": "stream",
          "text": [
            "Valores maiores que 200 na coluna ap_hi: 100\n",
            "Valores maiores que 120 na coluna ap_lo: 1056\n",
            "Valores menores que 60 na coluna ap_hi: 188\n",
            "Valores menores que 50 na coluna ap_lo: 80\n"
          ],
          "name": "stdout"
        }
      ]
    },
    {
      "cell_type": "code",
      "metadata": {
        "id": "Cm21F_lhqJCE"
      },
      "source": [
        "# substituicao dos outliers na variavel ap_hi (Pressao Sistolica)\n",
        "def sistolic_outlier(df):\n",
        "  media_sistolic = round(df['ap_hi'].mean())\n",
        "  df['ap_hi'] = np.where(df['ap_hi'] > 200, media_sistolic, df['ap_hi'])\n",
        "  df['ap_hi'] = np.where(df['ap_hi'] < 60, media_sistolic, df['ap_hi'])\n",
        "sistolic_outlier(df)"
      ],
      "execution_count": null,
      "outputs": []
    },
    {
      "cell_type": "code",
      "metadata": {
        "id": "sKyhfnT7olTj"
      },
      "source": [
        "# substituicao dos outliers na variavel ap_lo (Pressao Distolica)\n",
        "def distolic_outlier(df):\n",
        "  media_distolic = round(df['ap_lo'].mean())\n",
        "  df['ap_lo'] = np.where(df['ap_lo'] > 120, media_distolic, df['ap_lo'])\n",
        "  df['ap_lo'] = np.where(df['ap_lo'] < 50, media_distolic, df['ap_lo'])\n",
        "distolic_outlier(df)"
      ],
      "execution_count": null,
      "outputs": []
    },
    {
      "cell_type": "code",
      "metadata": {
        "id": "ajYdkQ5YeQtp",
        "outputId": "031c9951-dafb-4929-a101-f0e88c6b6f01",
        "colab": {
          "base_uri": "https://localhost:8080/",
          "height": 483
        }
      },
      "source": [
        "# validar os valores de pressão arterial\n",
        "df.describe().T"
      ],
      "execution_count": null,
      "outputs": [
        {
          "output_type": "execute_result",
          "data": {
            "text/html": [
              "<div>\n",
              "<style scoped>\n",
              "    .dataframe tbody tr th:only-of-type {\n",
              "        vertical-align: middle;\n",
              "    }\n",
              "\n",
              "    .dataframe tbody tr th {\n",
              "        vertical-align: top;\n",
              "    }\n",
              "\n",
              "    .dataframe thead th {\n",
              "        text-align: right;\n",
              "    }\n",
              "</style>\n",
              "<table border=\"1\" class=\"dataframe\">\n",
              "  <thead>\n",
              "    <tr style=\"text-align: right;\">\n",
              "      <th></th>\n",
              "      <th>count</th>\n",
              "      <th>mean</th>\n",
              "      <th>std</th>\n",
              "      <th>min</th>\n",
              "      <th>25%</th>\n",
              "      <th>50%</th>\n",
              "      <th>75%</th>\n",
              "      <th>max</th>\n",
              "    </tr>\n",
              "  </thead>\n",
              "  <tbody>\n",
              "    <tr>\n",
              "      <th>id</th>\n",
              "      <td>70000.0</td>\n",
              "      <td>49972.419900</td>\n",
              "      <td>28851.302323</td>\n",
              "      <td>0.0</td>\n",
              "      <td>25006.75</td>\n",
              "      <td>50001.5</td>\n",
              "      <td>74889.25</td>\n",
              "      <td>99999.0</td>\n",
              "    </tr>\n",
              "    <tr>\n",
              "      <th>age</th>\n",
              "      <td>70000.0</td>\n",
              "      <td>19468.865814</td>\n",
              "      <td>2467.251667</td>\n",
              "      <td>10798.0</td>\n",
              "      <td>17664.00</td>\n",
              "      <td>19703.0</td>\n",
              "      <td>21327.00</td>\n",
              "      <td>23713.0</td>\n",
              "    </tr>\n",
              "    <tr>\n",
              "      <th>gender</th>\n",
              "      <td>70000.0</td>\n",
              "      <td>1.349571</td>\n",
              "      <td>0.476838</td>\n",
              "      <td>1.0</td>\n",
              "      <td>1.00</td>\n",
              "      <td>1.0</td>\n",
              "      <td>2.00</td>\n",
              "      <td>2.0</td>\n",
              "    </tr>\n",
              "    <tr>\n",
              "      <th>height</th>\n",
              "      <td>70000.0</td>\n",
              "      <td>164.359229</td>\n",
              "      <td>8.210126</td>\n",
              "      <td>55.0</td>\n",
              "      <td>159.00</td>\n",
              "      <td>165.0</td>\n",
              "      <td>170.00</td>\n",
              "      <td>250.0</td>\n",
              "    </tr>\n",
              "    <tr>\n",
              "      <th>weight</th>\n",
              "      <td>70000.0</td>\n",
              "      <td>74.205690</td>\n",
              "      <td>14.395757</td>\n",
              "      <td>10.0</td>\n",
              "      <td>65.00</td>\n",
              "      <td>72.0</td>\n",
              "      <td>82.00</td>\n",
              "      <td>200.0</td>\n",
              "    </tr>\n",
              "    <tr>\n",
              "      <th>ap_hi</th>\n",
              "      <td>70000.0</td>\n",
              "      <td>126.931448</td>\n",
              "      <td>16.858249</td>\n",
              "      <td>60.0</td>\n",
              "      <td>120.00</td>\n",
              "      <td>120.0</td>\n",
              "      <td>140.00</td>\n",
              "      <td>200.0</td>\n",
              "    </tr>\n",
              "    <tr>\n",
              "      <th>ap_lo</th>\n",
              "      <td>70000.0</td>\n",
              "      <td>81.553545</td>\n",
              "      <td>9.481197</td>\n",
              "      <td>50.0</td>\n",
              "      <td>80.00</td>\n",
              "      <td>80.0</td>\n",
              "      <td>90.00</td>\n",
              "      <td>120.0</td>\n",
              "    </tr>\n",
              "    <tr>\n",
              "      <th>cholesterol</th>\n",
              "      <td>70000.0</td>\n",
              "      <td>1.366871</td>\n",
              "      <td>0.680250</td>\n",
              "      <td>1.0</td>\n",
              "      <td>1.00</td>\n",
              "      <td>1.0</td>\n",
              "      <td>2.00</td>\n",
              "      <td>3.0</td>\n",
              "    </tr>\n",
              "    <tr>\n",
              "      <th>gluc</th>\n",
              "      <td>70000.0</td>\n",
              "      <td>1.226457</td>\n",
              "      <td>0.572270</td>\n",
              "      <td>1.0</td>\n",
              "      <td>1.00</td>\n",
              "      <td>1.0</td>\n",
              "      <td>1.00</td>\n",
              "      <td>3.0</td>\n",
              "    </tr>\n",
              "    <tr>\n",
              "      <th>smoke</th>\n",
              "      <td>70000.0</td>\n",
              "      <td>0.088129</td>\n",
              "      <td>0.283484</td>\n",
              "      <td>0.0</td>\n",
              "      <td>0.00</td>\n",
              "      <td>0.0</td>\n",
              "      <td>0.00</td>\n",
              "      <td>1.0</td>\n",
              "    </tr>\n",
              "    <tr>\n",
              "      <th>alco</th>\n",
              "      <td>70000.0</td>\n",
              "      <td>0.053771</td>\n",
              "      <td>0.225568</td>\n",
              "      <td>0.0</td>\n",
              "      <td>0.00</td>\n",
              "      <td>0.0</td>\n",
              "      <td>0.00</td>\n",
              "      <td>1.0</td>\n",
              "    </tr>\n",
              "    <tr>\n",
              "      <th>active</th>\n",
              "      <td>70000.0</td>\n",
              "      <td>0.803729</td>\n",
              "      <td>0.397179</td>\n",
              "      <td>0.0</td>\n",
              "      <td>1.00</td>\n",
              "      <td>1.0</td>\n",
              "      <td>1.00</td>\n",
              "      <td>1.0</td>\n",
              "    </tr>\n",
              "    <tr>\n",
              "      <th>cardio</th>\n",
              "      <td>70000.0</td>\n",
              "      <td>0.499700</td>\n",
              "      <td>0.500003</td>\n",
              "      <td>0.0</td>\n",
              "      <td>0.00</td>\n",
              "      <td>0.0</td>\n",
              "      <td>1.00</td>\n",
              "      <td>1.0</td>\n",
              "    </tr>\n",
              "    <tr>\n",
              "      <th>idade</th>\n",
              "      <td>70000.0</td>\n",
              "      <td>53.338686</td>\n",
              "      <td>6.765294</td>\n",
              "      <td>30.0</td>\n",
              "      <td>48.00</td>\n",
              "      <td>54.0</td>\n",
              "      <td>58.00</td>\n",
              "      <td>65.0</td>\n",
              "    </tr>\n",
              "  </tbody>\n",
              "</table>\n",
              "</div>"
            ],
            "text/plain": [
              "               count          mean           std  ...      50%       75%      max\n",
              "id           70000.0  49972.419900  28851.302323  ...  50001.5  74889.25  99999.0\n",
              "age          70000.0  19468.865814   2467.251667  ...  19703.0  21327.00  23713.0\n",
              "gender       70000.0      1.349571      0.476838  ...      1.0      2.00      2.0\n",
              "height       70000.0    164.359229      8.210126  ...    165.0    170.00    250.0\n",
              "weight       70000.0     74.205690     14.395757  ...     72.0     82.00    200.0\n",
              "ap_hi        70000.0    126.931448     16.858249  ...    120.0    140.00    200.0\n",
              "ap_lo        70000.0     81.553545      9.481197  ...     80.0     90.00    120.0\n",
              "cholesterol  70000.0      1.366871      0.680250  ...      1.0      2.00      3.0\n",
              "gluc         70000.0      1.226457      0.572270  ...      1.0      1.00      3.0\n",
              "smoke        70000.0      0.088129      0.283484  ...      0.0      0.00      1.0\n",
              "alco         70000.0      0.053771      0.225568  ...      0.0      0.00      1.0\n",
              "active       70000.0      0.803729      0.397179  ...      1.0      1.00      1.0\n",
              "cardio       70000.0      0.499700      0.500003  ...      0.0      1.00      1.0\n",
              "idade        70000.0     53.338686      6.765294  ...     54.0     58.00     65.0\n",
              "\n",
              "[14 rows x 8 columns]"
            ]
          },
          "metadata": {
            "tags": []
          },
          "execution_count": 11
        }
      ]
    },
    {
      "cell_type": "code",
      "metadata": {
        "id": "2j7xZf6odOrm",
        "outputId": "b801ac8b-cab6-4b8b-953a-d24d896d6733",
        "colab": {
          "base_uri": "https://localhost:8080/",
          "height": 404
        }
      },
      "source": [
        "# verificar outliers da variavel weight (Peso) e height (Altura)\n",
        "fig, (axis1, axis2) = plt.subplots(1, 2, figsize=(14, 6))\n",
        "\n",
        "sns.scatterplot(x='idade', y='weight', data=df, ax=axis1)\n",
        "axis1.set_title('Idade vs Peso')\n",
        "sns.scatterplot(x='idade', y='height', data=df, ax=axis2)\n",
        "axis2.set_title('Idade vs Altura');"
      ],
      "execution_count": null,
      "outputs": [
        {
          "output_type": "display_data",
          "data": {
            "image/png": "[encoded data removed]",
            "text/plain": [
              "<Figure size 1008x432 with 2 Axes>"
            ]
          },
          "metadata": {
            "tags": [],
            "needs_background": "light"
          }
        }
      ]
    },
    {
      "cell_type": "code",
      "metadata": {
        "id": "v8R_zo_rswSB",
        "outputId": "4ac7d4b0-1f42-4f4a-f2a5-a9c58d0df6ee",
        "colab": {
          "base_uri": "https://localhost:8080/"
        }
      },
      "source": [
        "# verificando outliers na variavel weight (Peso)\n",
        "IQR_weight = df.weight.quantile(0.75) - df.weight.quantile(0.25)\n",
        "quartil_inf_weight = df.weight.quantile(0.25) - (IQR_weight * 3)\n",
        "quartil_sup_weight = df.weight.quantile(0.75) + (IQR_weight * 3)\n",
        "print('Os valores de Peso que são considerados Outliers: abaixo de {} e acima de {}'. format(quartil_inf_weight,quartil_sup_weight))"
      ],
      "execution_count": null,
      "outputs": [
        {
          "output_type": "stream",
          "text": [
            "Os valores de Peso que são considerados Outliers: abaixo de 14.0 e acima de 133.0\n"
          ],
          "name": "stdout"
        }
      ]
    },
    {
      "cell_type": "code",
      "metadata": {
        "id": "BEbtTLbJuDlF",
        "outputId": "25069bb3-f8f4-4182-bc98-f68af6b7584e",
        "colab": {
          "base_uri": "https://localhost:8080/"
        }
      },
      "source": [
        "# verificando outliers na variavel height (Altura)\n",
        "IQR_height = df.height.quantile(0.75) - df.height.quantile(0.25)\n",
        "quartil_inf_height = df.height.quantile(0.25) - (IQR_height * 3)\n",
        "quartil_sup_height = df.height.quantile(0.75) + (IQR_height * 3)\n",
        "print('Os valores de Altura que são considerados Outliers: abaixo de {} e acima de {}'. format(quartil_inf_height,quartil_sup_height))"
      ],
      "execution_count": null,
      "outputs": [
        {
          "output_type": "stream",
          "text": [
            "Os valores de Altura que são considerados Outliers: abaixo de 126.0 e acima de 203.0\n"
          ],
          "name": "stdout"
        }
      ]
    },
    {
      "cell_type": "code",
      "metadata": {
        "id": "nqk13Cgsv24f"
      },
      "source": [
        "# substituicao dos outliers na variavel weight (Peso)\n",
        "def weight_outlier(df):\n",
        "  media_weight = df['weight'].mean()\n",
        "  df['weight'] = np.where(df['weight']>133, media_weight, df['weight'])\n",
        "  df['weight'] = np.where(df['weight']<50, media_weight, df['weight'])\n",
        "weight_outlier(df)"
      ],
      "execution_count": null,
      "outputs": []
    },
    {
      "cell_type": "code",
      "metadata": {
        "id": "d8TctgEawUKh"
      },
      "source": [
        "# substituicao dos outliers na variavel height (Altura)\n",
        "def height_outlier(df):\n",
        "  media_height = df['height'].mean()\n",
        "  df['height'] = np.where(df['height']>203, media_height, df['height'])\n",
        "  df['height'] = np.where(df['height']<126, media_height, df['height'])\n",
        "height_outlier(df)"
      ],
      "execution_count": null,
      "outputs": []
    },
    {
      "cell_type": "code",
      "metadata": {
        "id": "mJ3Y4R33wndo",
        "outputId": "57313d9f-e578-4cd9-bf63-f47441f63c13",
        "colab": {
          "base_uri": "https://localhost:8080/",
          "height": 483
        }
      },
      "source": [
        "df.describe().T"
      ],
      "execution_count": null,
      "outputs": [
        {
          "output_type": "execute_result",
          "data": {
            "text/html": [
              "<div>\n",
              "<style scoped>\n",
              "    .dataframe tbody tr th:only-of-type {\n",
              "        vertical-align: middle;\n",
              "    }\n",
              "\n",
              "    .dataframe tbody tr th {\n",
              "        vertical-align: top;\n",
              "    }\n",
              "\n",
              "    .dataframe thead th {\n",
              "        text-align: right;\n",
              "    }\n",
              "</style>\n",
              "<table border=\"1\" class=\"dataframe\">\n",
              "  <thead>\n",
              "    <tr style=\"text-align: right;\">\n",
              "      <th></th>\n",
              "      <th>count</th>\n",
              "      <th>mean</th>\n",
              "      <th>std</th>\n",
              "      <th>min</th>\n",
              "      <th>25%</th>\n",
              "      <th>50%</th>\n",
              "      <th>75%</th>\n",
              "      <th>max</th>\n",
              "    </tr>\n",
              "  </thead>\n",
              "  <tbody>\n",
              "    <tr>\n",
              "      <th>id</th>\n",
              "      <td>70000.0</td>\n",
              "      <td>49972.419900</td>\n",
              "      <td>28851.302323</td>\n",
              "      <td>0.0</td>\n",
              "      <td>25006.75</td>\n",
              "      <td>50001.5</td>\n",
              "      <td>74889.25</td>\n",
              "      <td>99999.0</td>\n",
              "    </tr>\n",
              "    <tr>\n",
              "      <th>age</th>\n",
              "      <td>70000.0</td>\n",
              "      <td>19468.865814</td>\n",
              "      <td>2467.251667</td>\n",
              "      <td>10798.0</td>\n",
              "      <td>17664.00</td>\n",
              "      <td>19703.0</td>\n",
              "      <td>21327.00</td>\n",
              "      <td>23713.0</td>\n",
              "    </tr>\n",
              "    <tr>\n",
              "      <th>gender</th>\n",
              "      <td>70000.0</td>\n",
              "      <td>1.349571</td>\n",
              "      <td>0.476838</td>\n",
              "      <td>1.0</td>\n",
              "      <td>1.00</td>\n",
              "      <td>1.0</td>\n",
              "      <td>2.00</td>\n",
              "      <td>2.0</td>\n",
              "    </tr>\n",
              "    <tr>\n",
              "      <th>height</th>\n",
              "      <td>70000.0</td>\n",
              "      <td>164.437806</td>\n",
              "      <td>7.853317</td>\n",
              "      <td>128.0</td>\n",
              "      <td>159.00</td>\n",
              "      <td>165.0</td>\n",
              "      <td>170.00</td>\n",
              "      <td>200.0</td>\n",
              "    </tr>\n",
              "    <tr>\n",
              "      <th>weight</th>\n",
              "      <td>70000.0</td>\n",
              "      <td>74.431938</td>\n",
              "      <td>13.455571</td>\n",
              "      <td>50.0</td>\n",
              "      <td>65.00</td>\n",
              "      <td>72.0</td>\n",
              "      <td>82.00</td>\n",
              "      <td>133.0</td>\n",
              "    </tr>\n",
              "    <tr>\n",
              "      <th>ap_hi</th>\n",
              "      <td>70000.0</td>\n",
              "      <td>126.931448</td>\n",
              "      <td>16.858249</td>\n",
              "      <td>60.0</td>\n",
              "      <td>120.00</td>\n",
              "      <td>120.0</td>\n",
              "      <td>140.00</td>\n",
              "      <td>200.0</td>\n",
              "    </tr>\n",
              "    <tr>\n",
              "      <th>ap_lo</th>\n",
              "      <td>70000.0</td>\n",
              "      <td>81.553545</td>\n",
              "      <td>9.481197</td>\n",
              "      <td>50.0</td>\n",
              "      <td>80.00</td>\n",
              "      <td>80.0</td>\n",
              "      <td>90.00</td>\n",
              "      <td>120.0</td>\n",
              "    </tr>\n",
              "    <tr>\n",
              "      <th>cholesterol</th>\n",
              "      <td>70000.0</td>\n",
              "      <td>1.366871</td>\n",
              "      <td>0.680250</td>\n",
              "      <td>1.0</td>\n",
              "      <td>1.00</td>\n",
              "      <td>1.0</td>\n",
              "      <td>2.00</td>\n",
              "      <td>3.0</td>\n",
              "    </tr>\n",
              "    <tr>\n",
              "      <th>gluc</th>\n",
              "      <td>70000.0</td>\n",
              "      <td>1.226457</td>\n",
              "      <td>0.572270</td>\n",
              "      <td>1.0</td>\n",
              "      <td>1.00</td>\n",
              "      <td>1.0</td>\n",
              "      <td>1.00</td>\n",
              "      <td>3.0</td>\n",
              "    </tr>\n",
              "    <tr>\n",
              "      <th>smoke</th>\n",
              "      <td>70000.0</td>\n",
              "      <td>0.088129</td>\n",
              "      <td>0.283484</td>\n",
              "      <td>0.0</td>\n",
              "      <td>0.00</td>\n",
              "      <td>0.0</td>\n",
              "      <td>0.00</td>\n",
              "      <td>1.0</td>\n",
              "    </tr>\n",
              "    <tr>\n",
              "      <th>alco</th>\n",
              "      <td>70000.0</td>\n",
              "      <td>0.053771</td>\n",
              "      <td>0.225568</td>\n",
              "      <td>0.0</td>\n",
              "      <td>0.00</td>\n",
              "      <td>0.0</td>\n",
              "      <td>0.00</td>\n",
              "      <td>1.0</td>\n",
              "    </tr>\n",
              "    <tr>\n",
              "      <th>active</th>\n",
              "      <td>70000.0</td>\n",
              "      <td>0.803729</td>\n",
              "      <td>0.397179</td>\n",
              "      <td>0.0</td>\n",
              "      <td>1.00</td>\n",
              "      <td>1.0</td>\n",
              "      <td>1.00</td>\n",
              "      <td>1.0</td>\n",
              "    </tr>\n",
              "    <tr>\n",
              "      <th>cardio</th>\n",
              "      <td>70000.0</td>\n",
              "      <td>0.499700</td>\n",
              "      <td>0.500003</td>\n",
              "      <td>0.0</td>\n",
              "      <td>0.00</td>\n",
              "      <td>0.0</td>\n",
              "      <td>1.00</td>\n",
              "      <td>1.0</td>\n",
              "    </tr>\n",
              "    <tr>\n",
              "      <th>idade</th>\n",
              "      <td>70000.0</td>\n",
              "      <td>53.338686</td>\n",
              "      <td>6.765294</td>\n",
              "      <td>30.0</td>\n",
              "      <td>48.00</td>\n",
              "      <td>54.0</td>\n",
              "      <td>58.00</td>\n",
              "      <td>65.0</td>\n",
              "    </tr>\n",
              "  </tbody>\n",
              "</table>\n",
              "</div>"
            ],
            "text/plain": [
              "               count          mean           std  ...      50%       75%      max\n",
              "id           70000.0  49972.419900  28851.302323  ...  50001.5  74889.25  99999.0\n",
              "age          70000.0  19468.865814   2467.251667  ...  19703.0  21327.00  23713.0\n",
              "gender       70000.0      1.349571      0.476838  ...      1.0      2.00      2.0\n",
              "height       70000.0    164.437806      7.853317  ...    165.0    170.00    200.0\n",
              "weight       70000.0     74.431938     13.455571  ...     72.0     82.00    133.0\n",
              "ap_hi        70000.0    126.931448     16.858249  ...    120.0    140.00    200.0\n",
              "ap_lo        70000.0     81.553545      9.481197  ...     80.0     90.00    120.0\n",
              "cholesterol  70000.0      1.366871      0.680250  ...      1.0      2.00      3.0\n",
              "gluc         70000.0      1.226457      0.572270  ...      1.0      1.00      3.0\n",
              "smoke        70000.0      0.088129      0.283484  ...      0.0      0.00      1.0\n",
              "alco         70000.0      0.053771      0.225568  ...      0.0      0.00      1.0\n",
              "active       70000.0      0.803729      0.397179  ...      1.0      1.00      1.0\n",
              "cardio       70000.0      0.499700      0.500003  ...      0.0      1.00      1.0\n",
              "idade        70000.0     53.338686      6.765294  ...     54.0     58.00     65.0\n",
              "\n",
              "[14 rows x 8 columns]"
            ]
          },
          "metadata": {
            "tags": []
          },
          "execution_count": 17
        }
      ]
    },
    {
      "cell_type": "code",
      "metadata": {
        "id": "zRroXlSSw02D",
        "outputId": "9f6c68a8-2859-47ee-a888-c2ac7ed8c447",
        "colab": {
          "base_uri": "https://localhost:8080/"
        }
      },
      "source": [
        "# verificando outliers na variavel age (Idade)\n",
        "IQR_age = df.age.quantile(0.75) - df.age.quantile(0.25)\n",
        "quartil_inf_age = df.age.quantile(0.25) - (IQR_age * 3)\n",
        "quartil_sup_age = df.age.quantile(0.75) + (IQR_age * 3)\n",
        "print('Os valores de Idade que são considerados Outliers: abaixo de {} e acima de {}'. format(quartil_inf_age,quartil_sup_age))\n",
        "print('Variavel (age) tem o valor minimo de {} e maximo de {}'.format(min(df['age']), max(df['age'])))"
      ],
      "execution_count": null,
      "outputs": [
        {
          "output_type": "stream",
          "text": [
            "Os valores de Idade que são considerados Outliers: abaixo de 6675.0 e acima de 32316.0\n",
            "Variavel (age) tem o valor minimo de 10798 e maximo de 23713\n"
          ],
          "name": "stdout"
        }
      ]
    },
    {
      "cell_type": "markdown",
      "metadata": {
        "id": "JMqKWDMUDP2v"
      },
      "source": [
        "#### <font color='orange'> 3.3. Dummie Variables </font>"
      ]
    },
    {
      "cell_type": "code",
      "metadata": {
        "id": "wLU0g8iXDzfa"
      },
      "source": [
        "# variaveis dummie para cholesterol\n",
        "cholesterol_dummies = pd.get_dummies(df['cholesterol'], prefix='cholesterol')\n",
        "df = pd.concat([df, cholesterol_dummies], axis=1)\n",
        "df.drop('cholesterol', axis=1, inplace=True)"
      ],
      "execution_count": null,
      "outputs": []
    },
    {
      "cell_type": "code",
      "metadata": {
        "id": "Vcv7rG4lEBsf",
        "outputId": "7c015705-b93b-40e7-e01b-ee4cbe74df5d",
        "colab": {
          "base_uri": "https://localhost:8080/",
          "height": 204
        }
      },
      "source": [
        "# variaveis dummie para gluc\n",
        "gluc_dummies = pd.get_dummies(df['gluc'], prefix='gluc')\n",
        "df = pd.concat([df, gluc_dummies], axis=1)\n",
        "df.drop('gluc', axis=1, inplace=True)\n",
        "\n",
        "df.head()"
      ],
      "execution_count": null,
      "outputs": [
        {
          "output_type": "execute_result",
          "data": {
            "text/html": [
              "<div>\n",
              "<style scoped>\n",
              "    .dataframe tbody tr th:only-of-type {\n",
              "        vertical-align: middle;\n",
              "    }\n",
              "\n",
              "    .dataframe tbody tr th {\n",
              "        vertical-align: top;\n",
              "    }\n",
              "\n",
              "    .dataframe thead th {\n",
              "        text-align: right;\n",
              "    }\n",
              "</style>\n",
              "<table border=\"1\" class=\"dataframe\">\n",
              "  <thead>\n",
              "    <tr style=\"text-align: right;\">\n",
              "      <th></th>\n",
              "      <th>id</th>\n",
              "      <th>age</th>\n",
              "      <th>gender</th>\n",
              "      <th>height</th>\n",
              "      <th>weight</th>\n",
              "      <th>ap_hi</th>\n",
              "      <th>ap_lo</th>\n",
              "      <th>smoke</th>\n",
              "      <th>alco</th>\n",
              "      <th>active</th>\n",
              "      <th>cardio</th>\n",
              "      <th>idade</th>\n",
              "      <th>cholesterol_1</th>\n",
              "      <th>cholesterol_2</th>\n",
              "      <th>cholesterol_3</th>\n",
              "      <th>gluc_1</th>\n",
              "      <th>gluc_2</th>\n",
              "      <th>gluc_3</th>\n",
              "    </tr>\n",
              "  </thead>\n",
              "  <tbody>\n",
              "    <tr>\n",
              "      <th>0</th>\n",
              "      <td>0</td>\n",
              "      <td>18393</td>\n",
              "      <td>2</td>\n",
              "      <td>168.0</td>\n",
              "      <td>62.0</td>\n",
              "      <td>110.0</td>\n",
              "      <td>80.0</td>\n",
              "      <td>0</td>\n",
              "      <td>0</td>\n",
              "      <td>1</td>\n",
              "      <td>0</td>\n",
              "      <td>50.0</td>\n",
              "      <td>1</td>\n",
              "      <td>0</td>\n",
              "      <td>0</td>\n",
              "      <td>1</td>\n",
              "      <td>0</td>\n",
              "      <td>0</td>\n",
              "    </tr>\n",
              "    <tr>\n",
              "      <th>1</th>\n",
              "      <td>1</td>\n",
              "      <td>20228</td>\n",
              "      <td>1</td>\n",
              "      <td>156.0</td>\n",
              "      <td>85.0</td>\n",
              "      <td>140.0</td>\n",
              "      <td>90.0</td>\n",
              "      <td>0</td>\n",
              "      <td>0</td>\n",
              "      <td>1</td>\n",
              "      <td>1</td>\n",
              "      <td>55.0</td>\n",
              "      <td>0</td>\n",
              "      <td>0</td>\n",
              "      <td>1</td>\n",
              "      <td>1</td>\n",
              "      <td>0</td>\n",
              "      <td>0</td>\n",
              "    </tr>\n",
              "    <tr>\n",
              "      <th>2</th>\n",
              "      <td>2</td>\n",
              "      <td>18857</td>\n",
              "      <td>1</td>\n",
              "      <td>165.0</td>\n",
              "      <td>64.0</td>\n",
              "      <td>130.0</td>\n",
              "      <td>70.0</td>\n",
              "      <td>0</td>\n",
              "      <td>0</td>\n",
              "      <td>0</td>\n",
              "      <td>1</td>\n",
              "      <td>52.0</td>\n",
              "      <td>0</td>\n",
              "      <td>0</td>\n",
              "      <td>1</td>\n",
              "      <td>1</td>\n",
              "      <td>0</td>\n",
              "      <td>0</td>\n",
              "    </tr>\n",
              "    <tr>\n",
              "      <th>3</th>\n",
              "      <td>3</td>\n",
              "      <td>17623</td>\n",
              "      <td>2</td>\n",
              "      <td>169.0</td>\n",
              "      <td>82.0</td>\n",
              "      <td>150.0</td>\n",
              "      <td>100.0</td>\n",
              "      <td>0</td>\n",
              "      <td>0</td>\n",
              "      <td>1</td>\n",
              "      <td>1</td>\n",
              "      <td>48.0</td>\n",
              "      <td>1</td>\n",
              "      <td>0</td>\n",
              "      <td>0</td>\n",
              "      <td>1</td>\n",
              "      <td>0</td>\n",
              "      <td>0</td>\n",
              "    </tr>\n",
              "    <tr>\n",
              "      <th>4</th>\n",
              "      <td>4</td>\n",
              "      <td>17474</td>\n",
              "      <td>1</td>\n",
              "      <td>156.0</td>\n",
              "      <td>56.0</td>\n",
              "      <td>100.0</td>\n",
              "      <td>60.0</td>\n",
              "      <td>0</td>\n",
              "      <td>0</td>\n",
              "      <td>0</td>\n",
              "      <td>0</td>\n",
              "      <td>48.0</td>\n",
              "      <td>1</td>\n",
              "      <td>0</td>\n",
              "      <td>0</td>\n",
              "      <td>1</td>\n",
              "      <td>0</td>\n",
              "      <td>0</td>\n",
              "    </tr>\n",
              "  </tbody>\n",
              "</table>\n",
              "</div>"
            ],
            "text/plain": [
              "   id    age  gender  height  ...  cholesterol_3  gluc_1  gluc_2  gluc_3\n",
              "0   0  18393       2   168.0  ...              0       1       0       0\n",
              "1   1  20228       1   156.0  ...              1       1       0       0\n",
              "2   2  18857       1   165.0  ...              1       1       0       0\n",
              "3   3  17623       2   169.0  ...              0       1       0       0\n",
              "4   4  17474       1   156.0  ...              0       1       0       0\n",
              "\n",
              "[5 rows x 18 columns]"
            ]
          },
          "metadata": {
            "tags": []
          },
          "execution_count": 14
        }
      ]
    },
    {
      "cell_type": "markdown",
      "metadata": {
        "id": "v_Qe1BvxQgN9"
      },
      "source": [
        "#### <font color='orange'> 3.4. Data preparation - Split </font>"
      ]
    },
    {
      "cell_type": "code",
      "metadata": {
        "id": "AofJ_tzmRbSZ"
      },
      "source": [
        "# features \n",
        "X = df.drop(['cardio', 'idade', 'id'], axis=1)\n",
        "\n",
        "# response variable\n",
        "y = df['cardio']"
      ],
      "execution_count": null,
      "outputs": []
    },
    {
      "cell_type": "code",
      "metadata": {
        "id": "sCUB5nZugR8d"
      },
      "source": [
        "# padronizar as colunas numericas\n",
        "X = StandardScaler().fit_transform(X)\n",
        "\n",
        "# label encoder na variavel alvo\n",
        "y = LabelEncoder().fit_transform(y)"
      ],
      "execution_count": null,
      "outputs": []
    },
    {
      "cell_type": "code",
      "metadata": {
        "id": "MJVR2BSbR4Mj"
      },
      "source": [
        "# dividir o dataset em treino e teste\n",
        "X_train, X_test, y_train, y_test = train_test_split(X, y, test_size=0.3)"
      ],
      "execution_count": null,
      "outputs": []
    },
    {
      "cell_type": "markdown",
      "metadata": {
        "id": "8unjvLZ9QCgp"
      },
      "source": [
        "### <font color='orange'> 4.0. Model Training </font>"
      ]
    },
    {
      "cell_type": "code",
      "metadata": {
        "id": "7Jf8Hp9in7tw"
      },
      "source": [
        "# model description\n",
        "model_lr = lr(solver='liblinear', random_state=0)\n",
        "\n",
        "# model training\n",
        "model_lr.fit(X_train, y_train);"
      ],
      "execution_count": null,
      "outputs": []
    },
    {
      "cell_type": "code",
      "metadata": {
        "id": "QSGaFzS0TRCK"
      },
      "source": [
        "# realizar as previsões no dataset de treino\n",
        "resultado = model_lr.predict(X_test)"
      ],
      "execution_count": null,
      "outputs": []
    },
    {
      "cell_type": "markdown",
      "metadata": {
        "id": "5UbJFRajQKEV"
      },
      "source": [
        "### <font color='orange'> 5.0. Performance Metrics </font>"
      ]
    },
    {
      "cell_type": "code",
      "metadata": {
        "id": "-aZy2EiBserj",
        "outputId": "48435dcb-0fd0-458b-ebe9-61ebf2566ba6",
        "colab": {
          "base_uri": "https://localhost:8080/"
        }
      },
      "source": [
        "# ver acurácia do modelo\n",
        "print('Acuracia: ', round(accuracy_score(y_test, resultado)*100))"
      ],
      "execution_count": null,
      "outputs": [
        {
          "output_type": "stream",
          "text": [
            "Acuracia:  73.0\n"
          ],
          "name": "stdout"
        }
      ]
    },
    {
      "cell_type": "code",
      "metadata": {
        "id": "QfsmXMKR_8jO"
      },
      "source": [
        ""
      ],
      "execution_count": null,
      "outputs": []
    },
    {
      "cell_type": "code",
      "metadata": {
        "id": "bzO7Vp3V9p6_"
      },
      "source": [
        ""
      ],
      "execution_count": null,
      "outputs": []
    },
    {
      "cell_type": "code",
      "metadata": {
        "id": "etC2uQ_M9qZi"
      },
      "source": [
        ""
      ],
      "execution_count": null,
      "outputs": []
    },
    {
      "cell_type": "code",
      "metadata": {
        "id": "M01neGW-z2xV"
      },
      "source": [
        "          # Avaliações dos modelos\n",
        "              -- 001 Decision Tree\n",
        "                    -- encoder + dummies:     0.6384\n",
        "                    -- encoder:               0.6393\n",
        "                    -- dummies:               0.6335\n",
        "\n",
        "              -- 002 Random Forest\n",
        "                    -- encoder + dummies:     0.7188\n",
        "                    -- encoder:               0.7104\n",
        "                    -- dummies:               0.7108\n",
        "\n",
        "              -- 003 Naive Bayes\n",
        "                    -- encoder + dummies:     0.6753\n",
        "                    -- encoder:               0.7090\n",
        "                    -- dummies:               0.6821\n",
        "\n",
        "              -- 004 Regressao Linear\n",
        "                    -- encoder + dummies:     0.7296  \n",
        "                    -- encoder:               0.7268      \n",
        "                    -- dummies:               0.7170"
      ],
      "execution_count": null,
      "outputs": []
    }
  ]
}